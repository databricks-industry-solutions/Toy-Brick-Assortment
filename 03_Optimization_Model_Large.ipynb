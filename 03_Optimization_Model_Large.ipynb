{
 "cells": [
  {
   "cell_type": "markdown",
   "metadata": {
    "application/vnd.databricks.v1+cell": {
     "cellMetadata": {
      "byteLimit": 2048000,
      "rowLimit": 10000
     },
     "inputWidgets": {},
     "nuid": "0807be36-32f6-42cd-ad32-217a97ff8bd7",
     "showTitle": false,
     "tableResultSettingsMap": {},
     "title": ""
    }
   },
   "source": [
    "## Advanced LEGO assortment \n",
    "\n",
    "In this notebook, we will continue building from where we left off with the optimization model defined in <a href=\"$./Optimization_Model\">Optimization_Model</a>. In the previous notebook, you can find a step by step, detailed description of a mathematical optimization model for our mathematical programming assortment problem and its resulting optimization. This notebook will continue progressing toward more advanced modelling and utilize production-ready code relying on object oriented programming techniques.\n",
    "\n",
    "If necessary, you can rebuild the LEGO brick inventory in <a href=\"$./Prepare_Data\">Prepare_Data</a>. The resulting catalog datasets with suffix `_large` define the new inventory of parts from a collection of more than 200 Star Wars-themed LEGO sets released since the year 2000, which will be used in this notebook.\n",
    "\n",
    "We will create a class object with the same components (objective, variables, constraints) as our model in <a href=\"$./Optimization_Model\">Optimization_Model</a>, and solve an instance of this base model class, parameterized by the larger brick inventory.\n",
    "\n",
    "To illustrate the value of optimization we will extend our experiment with:\n",
    "- A comparison to a greedy search heuristic that does not use a mathematical programming optimization approach: This showcases the value gained from mathematical optimization\n",
    "- Solution for a variation of this problem where we allow for brick parts to be purchased: This showcases how mathematical optimization solutions can be easily extended"
   ]
  },
  {
   "cell_type": "markdown",
   "metadata": {
    "application/vnd.databricks.v1+cell": {
     "cellMetadata": {
      "byteLimit": 2048000,
      "rowLimit": 10000
     },
     "inputWidgets": {},
     "nuid": "087f169d-0496-4330-bd24-f23f9434dd8c",
     "showTitle": false,
     "tableResultSettingsMap": {},
     "title": ""
    }
   },
   "source": [
    "## Set up and initialize"
   ]
  },
  {
   "cell_type": "markdown",
   "metadata": {
    "application/vnd.databricks.v1+cell": {
     "cellMetadata": {
      "byteLimit": 2048000,
      "rowLimit": 10000
     },
     "inputWidgets": {},
     "nuid": "66f22570-2b57-45a3-9b73-1a4ead3a6287",
     "showTitle": false,
     "tableResultSettingsMap": {},
     "title": ""
    }
   },
   "source": [
    "### Import necessary packages\n",
    "\n",
    "The optimization model will be implemented using Gurobipy (Python API of Gurobi).  We need to make sure that Gurobipy is installed and ready to be used."
   ]
  },
  {
   "cell_type": "code",
   "execution_count": 0,
   "metadata": {
    "application/vnd.databricks.v1+cell": {
     "cellMetadata": {
      "byteLimit": 2048000,
      "rowLimit": 10000
     },
     "inputWidgets": {},
     "nuid": "50404594-0cad-4170-8b8c-51ca36f24c69",
     "showTitle": false,
     "tableResultSettingsMap": {},
     "title": ""
    }
   },
   "outputs": [],
   "source": [
    "%pip install gurobipy==12.0.0\n",
    "dbutils.library.restartPython()"
   ]
  },
  {
   "cell_type": "code",
   "execution_count": 0,
   "metadata": {
    "application/vnd.databricks.v1+cell": {
     "cellMetadata": {
      "byteLimit": 2048000,
      "rowLimit": 10000
     },
     "inputWidgets": {},
     "nuid": "fc39f6a1-ada7-43ca-85e1-c0bcea6881ae",
     "showTitle": false,
     "tableResultSettingsMap": {},
     "title": ""
    }
   },
   "outputs": [],
   "source": [
    "# Gurobi optimization library for model implementation\n",
    "from gurobipy import GRB \n",
    "import gurobipy as gp\n",
    "\n",
    "# Importing essential modules from pyspark.sql for DataFrame and Spark session management\n",
    "from pyspark.sql import Row\n",
    "from pyspark.sql import SparkSession\n",
    "import pyspark.pandas as ps\n",
    "import pandas as pd\n",
    "import numpy as np\n",
    "\n",
    "# Experiment logging\n",
    "import mlflow\n",
    "\n",
    "# Filter warnings\n",
    "import warnings\n",
    "from pyspark.pandas.utils import PandasAPIOnSparkAdviceWarning\n",
    "warnings.filterwarnings('ignore', category=PandasAPIOnSparkAdviceWarning)"
   ]
  },
  {
   "cell_type": "markdown",
   "metadata": {
    "application/vnd.databricks.v1+cell": {
     "cellMetadata": {
      "byteLimit": 2048000,
      "rowLimit": 10000
     },
     "inputWidgets": {},
     "nuid": "14cc286d-2785-4896-9f15-3f8961bb2b16",
     "showTitle": false,
     "tableResultSettingsMap": {},
     "title": ""
    }
   },
   "source": [
    "### Load input data from Catalog\n",
    "\n",
    "With our imports set, the next step is to load the data required for the model. We'll use the data previously processed into tables in the Prepare_Data notebook as inputs."
   ]
  },
  {
   "cell_type": "code",
   "execution_count": 0,
   "metadata": {
    "application/vnd.databricks.v1+cell": {
     "cellMetadata": {
      "byteLimit": 2048000,
      "rowLimit": 10000
     },
     "inputWidgets": {},
     "nuid": "2f4092fe-e8b6-4bb0-ad93-922c37657eed",
     "showTitle": false,
     "tableResultSettingsMap": {},
     "title": ""
    }
   },
   "outputs": [],
   "source": [
    "# Create a widget to accept a catalog name\n",
    "dbutils.widgets.text('catalog_name','catalog_name','Enter catalog name')\n",
    "dbutils.widgets.text('schema_name','schema_name','Enter schema name')"
   ]
  },
  {
   "cell_type": "code",
   "execution_count": 0,
   "metadata": {
    "application/vnd.databricks.v1+cell": {
     "cellMetadata": {
      "byteLimit": 2048000,
      "rowLimit": 10000
     },
     "inputWidgets": {},
     "nuid": "d53c6ce3-be7d-4350-94b9-336460e4193a",
     "showTitle": false,
     "tableResultSettingsMap": {},
     "title": ""
    }
   },
   "outputs": [],
   "source": [
    "# Retrieve the catalog name\n",
    "catalog_name = dbutils.widgets.get('catalog_name')\n",
    "schema_name = dbutils.widgets.get('schema_name')\n",
    "print(catalog_name + \"/\" + schema_name)"
   ]
  },
  {
   "cell_type": "markdown",
   "metadata": {
    "application/vnd.databricks.v1+cell": {
     "cellMetadata": {
      "byteLimit": 2048000,
      "rowLimit": 10000
     },
     "inputWidgets": {},
     "nuid": "9e6b1411-0ee9-4b48-9caf-76da66e98149",
     "showTitle": false,
     "tableResultSettingsMap": {},
     "title": ""
    }
   },
   "source": [
    "### Gurobi license and settings\n",
    "\n",
    "Unlike the small scale example in our initial example with 4 LEGO sets, the size of the problem is now parameterized by the larger inventory requires a commercial Gurobi licence. Here we set up the license with a [Gurobi Cluster Manager](https://docs.gurobi.com/projects/remoteservices/en/current/index.html) and store the API details using [Databricks Secrets](https://docs.databricks.com/en/security/secrets/index.html).\n",
    "\n",
    "To obtain a license and discuss alternatives to this licensing set up, contact [Gurobi Sales](mailto:sales@gurobi.com)."
   ]
  },
  {
   "cell_type": "code",
   "execution_count": 0,
   "metadata": {
    "application/vnd.databricks.v1+cell": {
     "cellMetadata": {
      "byteLimit": 2048000,
      "rowLimit": 10000
     },
     "inputWidgets": {},
     "nuid": "f7d2bd37-a343-4c19-bf5c-e102f086a35e",
     "showTitle": true,
     "tableResultSettingsMap": {},
     "title": "Gurobi license & model parameter setup"
    }
   },
   "outputs": [],
   "source": [
    "GUROBI_LIC = {\n",
    "    \"CSMANAGER\": \"https://gcm.aimpointdigital.com\",\n",
    "    \"CSAPIACCESSID\": dbutils.secrets.get(scope=\"gurobi_lic_jm\", key= \"CSAPIACCESSID\"),\n",
    "    \"CSAPISECRET\": dbutils.secrets.get(scope = \"gurobi_lic_jm\", key = \"CSAPISECRET\"),\n",
    "    \"CSAPPNAME\": dbutils.secrets.get(scope = \"gurobi_lic_jm\", key = \"CSAPPNAME\")\n",
    "}\n",
    "\n",
    "GUROBI_OPTIONS = {\n",
    "    \"TimeLimit\": 60,  # Sets a time limit for the optimization process (in seconds).\n",
    "    \"MIPGap\": 1e-3,   # Specifies the relative optimality gap.\n",
    "    \"Threads\": 8      # Limits the number of threads Gurobi uses for computation to 8.\n",
    "}"
   ]
  },
  {
   "cell_type": "markdown",
   "metadata": {
    "application/vnd.databricks.v1+cell": {
     "cellMetadata": {
      "byteLimit": 2048000,
      "rowLimit": 10000
     },
     "inputWidgets": {},
     "nuid": "456ee020-3998-4a0a-812f-ac3f40c55dc8",
     "showTitle": false,
     "tableResultSettingsMap": {},
     "title": ""
    }
   },
   "source": [
    "## Base LEGO Assortment Model Class\n",
    "\n",
    "We will define a class object of the base LEGO assortment model. For a step-by-step review of the mathematical programming concepts and a detailed description of the base model please refer to the notebook <a href=\"$./Optimization_Model\">Optimization_Model</a>. The description for each of the elements of the optimization is also given in the doc string for each component defined within the `BaseLegoModel` class. Using this type of definition for our base model is beneficial because it promotes code reusability and modularity. By defining a base model class, we can extend its functionality in derived classes through class inheritance without duplicating code. This approach ensures that any updates or changes to the base model are automatically inherited by all derived classes, making the code easier to maintain and extend. Additionally, it allows us to implement new features, such as the parts purchase logic (implemented towards the end of this notebook), in a structured and consistent manner.\n",
    "\n",
    "The class defines all the components required to formulate and solve the assortment optimization problem:\n",
    "- The sets and parameters that describe the available inventory as generated by the data preparation notebook that runs in the first code cell of this notebook\n",
    "- An instance of a gurobi environment class `Env` parameterized by license arguments in `GUROBI_LIC` which will house the models to be solved by Gurobi\n",
    "- An instance of a gurobi model class `Model` parameterized initially with the solver parameters in `GUROBI_OPTIONS` which will be attached to the environment and modified with the mathematical program components:\n",
    "    - `_binary_variables` defines the set of binary variables (0 or 1) indexed over LEGO sets that indicate whether or not a LEGO set is built in the optimized collection\n",
    "    - `_constraint_part_inventory`defines the set of constraints that assure that the inventory quantity for each part in a particular color is respected. Namely, we cannot use more parts than available to build LEGO sets. Ultimately these constraints force us to choose the most valuable sets overall subject to inventory availability\n",
    "    - `_objective_function` defines an objective function expression that specifies the total value of the collection by summing the individual contributions from the optimally selected sets. In other words, no value is contributed to the objective function from a set that is not selected to be built. In this case we want to obtain the highest value possible which corresponds to a maximization of this objective function.\n",
    "    \n",
    "- `define_model` builds the model object with all the required components\n",
    "- `solve_model` solves the model object in the specified gurobipy environment\n",
    "- `write_solution` writes the set selection variables and unused inventory parts to dataframes\n",
    "- `free_environment`  first disposes the model attached to the environment, and subsequently disposes the environment freeing up the license to be used for other applications"
   ]
  },
  {
   "cell_type": "code",
   "execution_count": 0,
   "metadata": {
    "application/vnd.databricks.v1+cell": {
     "cellMetadata": {
      "byteLimit": 2048000,
      "rowLimit": 10000
     },
     "inputWidgets": {},
     "nuid": "1e47427b-8ea3-4d99-9c8c-78b2737c780a",
     "showTitle": false,
     "tableResultSettingsMap": {},
     "title": ""
    }
   },
   "outputs": [],
   "source": [
    "class BaseLegoModel():\n",
    "    \"\"\" LEGO assortment optimization base model.\n",
    "    \"\"\"\n",
    "    def __init__(\n",
    "        self, \n",
    "        s_lego_set: set, \n",
    "        s_part_in_set: set,\n",
    "        s_part_in_color: set,\n",
    "        p_part_quantity_in_set: dict, \n",
    "        p_part_quantity_available: dict,\n",
    "        p_set_num_value: dict\n",
    "    ) -> None:\n",
    "        \"\"\" Initialize model instance.\n",
    "        \n",
    "        Defines the gurobipy environment and model objects, with the licensing and solver options\n",
    "        in GUROBI_LIC and GUROBI_OPTIONS.\n",
    "\n",
    "        Reads the sets and parameter arguments as attributes to the class on initialization.\n",
    "    \n",
    "        Parameters:\n",
    "        \n",
    "        - s_lego_set: set of (set_num) values. Each 'set_num' corresponds to a unique LEGO set that we will attempt to make \n",
    "                      with available inventory\n",
    "        - s_part_in_set: set of (set_num, part_num, color_id) tuples indicating which parts and colors are included in each \n",
    "                         buildable LEGO set\n",
    "        - s_part_in_color: set of (part_num, color_id) tuples defining specific parts with their associated colors\n",
    "                           that constitute our inventory\n",
    "        - p_part_quantity_in_set: Dictionary defining number of parts of specified type and color required to build a LEGO set.\n",
    "                                  Dictionary keys are (set_num, part_num, color_id) tuples\n",
    "                                  Dictionary values are the number of parts required of color `color_id` and type `part_num` in set `set_num`\n",
    "        - p_part_quantity_available: Dictionary defining parameters for quantities of parts available in inventory\n",
    "                                     Dictionary keys are (part_num, color_id) tuples\n",
    "                                     Dictionary values are the amount of parts of type `part_num` and color `color_id` in inventory\n",
    "        - p_set_num_value: Dictionary defining parameters for value of each buildable LEGO set\n",
    "                           Dictionary keys are (part_num)\n",
    "                           Dictionary values are the numerical value assigned to building a complete set defined by `set_num`\n",
    "                           \n",
    "        \"\"\"\n",
    "        \n",
    "        # Optimization sets & parameters\n",
    "        self.s_lego_set = s_lego_set\n",
    "        self.s_part_in_set = s_part_in_set\n",
    "        self.s_part_in_color = s_part_in_color\n",
    "        self.p_part_quantity_in_set = p_part_quantity_in_set\n",
    "        self.p_part_quantity_available = p_part_quantity_available\n",
    "        self.p_set_num_value = p_set_num_value\n",
    "\n",
    "        # Set the Gurobi license parameters and initialize the environment\n",
    "        self.env = gp.Env(empty=True)\n",
    "        # This line creates an empty Gurobi environment. By using empty=True, the environment is initialized without automatically loading parameters or settings, allowing for explicit customization before starting it.\n",
    "\n",
    "        for param_name, param_val in GUROBI_LIC.items():\n",
    "            self.env.setParam(param_name, param_val) # This line specifies the license parameters for the Gurobi environment.\n",
    "        self.env.start()\n",
    "        #This line starts the environment, activating the connection between the optimization program and the Gurobi solver. This step is essential after creating an empty environment to ensure it is ready to use.\n",
    "\n",
    "        # Set the Gurobi solver options and initialize the model\n",
    "        self.model = gp.Model(\"base_lego_problem\", env=self.env)\n",
    "        for param_name, param_val in GUROBI_OPTIONS.items():\n",
    "            self.model.setParam(param_name, param_val)  # This line specifies the other parameters that might be specified for the Gurobi solve, such as time limits or optimality gaps\n",
    "    \n",
    "    def _binary_variables(self) -> None:\n",
    "        \"\"\" Define the binary optimization variables for LEGO set selection.\n",
    "\n",
    "        There is a binary variable for each buildable LEGO set s in the set of buildable LEGO sets.\n",
    "        It takes a value of 1 if the set is selected to be built from inventory, and 0 otherwise.        \n",
    "        \"\"\"\n",
    "        self.bv_select_set = self.model.addVars(\n",
    "            self.s_lego_set,         # the set of elements that the decision variable is indexed over\n",
    "            vtype=GRB.BINARY,        # specifies that these variables are binary (0 or 1)\n",
    "            name=\"bv_select_set\"     # define a name for the variable\n",
    "        )\n",
    "    \n",
    "    def _constraint_part_inventory(self) -> None:\n",
    "        \"\"\" Define the constraint that ensures that each part-color is\n",
    "        used according to inventory availability.\n",
    "\n",
    "        This is a balance constraint that ensures that the parts used across all the sets\n",
    "        are within the inventory limits. This constraint is defined for each part-color combination.\n",
    "        The left hand side is the sum of the parts used in the sets, and the right hand side is the\n",
    "        inventory limit for that part-color combination.\n",
    "        \"\"\"\n",
    "        # Iterate over all part-color combinations\n",
    "        for (p, c) in self.s_part_in_color:\n",
    "            cons_name = f\"c_part_quantity_balance[{p}-{c}]\"\n",
    "            constr = (\n",
    "                sum(   # Define the left-hand side (LHS) of the constraint: Sum of the quantities of part (p) in color (c) across all selected sets (s).\n",
    "                    self.p_part_quantity_in_set[s, p, c] * self.bv_select_set[s]  # Quantity of (p, c) in set (s) times the binary variable\n",
    "                    for s in self.s_lego_set\n",
    "                    if (s, p, c) in self.s_part_in_set  # Only consider sets that actually contain the part-color combination\n",
    "                ) <= self.p_part_quantity_available[p, c]\n",
    "            )\n",
    "             # Add the constraint to the model with the generated name\n",
    "            self.model.addConstr(constr, name=cons_name)\n",
    "    \n",
    "    def _objective_function(self) -> None:\n",
    "        \"\"\" Define the objective function for the LEGO set selection problem as the sum of values\n",
    "        for sets selected to be built from inventory.\n",
    "\n",
    "        Only the sets selected to be built from inventory are included in the result since for\n",
    "        those that aren't, the binary variable bv_select_set takes value of 0.\n",
    "\n",
    "        We are interested in obtaining the most valuable collection of LEGO sets, so the\n",
    "        objective function is set to be maximized.\n",
    "        \"\"\"\n",
    "        obj = sum(self.p_set_num_value[s] * self.bv_select_set[s] for s in s_lego_set)\n",
    "        self.model.setObjective(obj, GRB.MAXIMIZE)\n",
    "    \n",
    "    def define_model(self) -> None:\n",
    "        \"\"\" Define the model for the LEGO set selection problem with the specified variables,\n",
    "        constraints, and objective.\n",
    "\n",
    "        Calling self.model.update() is required to include the newly defined variables,\n",
    "        constraints, and objective function.\n",
    "        \"\"\"\n",
    "        self._binary_variables()\n",
    "        self._constraint_part_inventory()\n",
    "        self._objective_function()\n",
    "        self.model.update()\n",
    "\n",
    "    def solve_model(self) -> None:\n",
    "        \"\"\" Solve the specified model with Gurobi and store the optimized value.\n",
    "        \n",
    "        Returns an exception if model is infeasible.\n",
    "        \"\"\"\n",
    "        self.model.optimize()\n",
    "\n",
    "        # Check the model's status to ensure that an optimal solution was found.\n",
    "        if self.model.status == GRB.OPTIMAL:\n",
    "            # If the model status indicates an optimal solution was found, display a success message and store the objective value\n",
    "            print(\"Optimal solution found\")\n",
    "            self.optimal_value = self.model.ObjVal                    \n",
    "        else:\n",
    "            # If the model status indicates that the solution is not optimal (e.g., infeasible), raise an exception.\n",
    "            raise Exception(\"Base model is infeasible.\")\n",
    "    \n",
    "    def write_solution(self) -> None:\n",
    "        \"\"\" Write the solution selected sets and unused inventory parts to DataFrame objects\"\"\"\n",
    "        \n",
    "        # retrieves the solution values for the variables in bv_select_set from the Gurobi model\n",
    "        bv_select_data = {\n",
    "            var: val\n",
    "            for var, val in self.model.getAttr('X', self.bv_select_set).items()\n",
    "        }\n",
    "\n",
    "        # since our decision variable is a binary variable, we just need to keep the sets that are selected by the model (i.e. \n",
    "        # if the result is 1). Please note that we use a tolerance to avoid floating point precision issues when filtering.\n",
    "        self.df_bv_select_data = pd.DataFrame(\n",
    "            [\n",
    "                {'Set': k, 'Value': v}\n",
    "                for k, v in bv_select_data.items()\n",
    "                if v > 0.01 # We are looking for elements where the value is 1 (not 0). We use a numerical tolerance to avoid floating point precision issues\n",
    "            ]\n",
    "        )\n",
    "        \n",
    "        # Remaining parts\n",
    "        # We start with parts available and we subtract parts that are used up in building selected sets\n",
    "        remaining_parts = {\n",
    "            (p, c): base_model.p_part_quantity_available[p, c] - sum(\n",
    "                base_model.p_part_quantity_in_set[s, p, c] * bv_select_data[s]\n",
    "                for s in base_model.s_lego_set\n",
    "                if (s, p, c) in base_model.s_part_in_set\n",
    "            )\n",
    "            for (p, c) in base_model.s_part_in_color\n",
    "        }\n",
    "        \n",
    "        # Create a dictionary of remaining parts where there are nonzero values available, in other words where there is actual inventory\n",
    "        remaining_parts_data = {\n",
    "            (p, c): remaining_parts[p, c]\n",
    "            for (p ,c) in self.s_part_in_color\n",
    "            if remaining_parts[p, c] > 0\n",
    "        }\n",
    "\n",
    "        self.df_remaining_parts_data = pd.DataFrame(\n",
    "            [\n",
    "                {'Part': k[0], 'Color': k[1], 'Quantity': v}\n",
    "                for k, v in remaining_parts_data.items()\n",
    "            ]\n",
    "        )\n",
    "\n",
    "    def free_environment(self) -> None:\n",
    "        #Best practice is to release the Gurobi environment when you are done utilizing it.\n",
    "        \"\"\" Free the Gurobi environment.\"\"\"\n",
    "        self.model.dispose()\n",
    "        self.env.dispose()\n"
   ]
  },
  {
   "cell_type": "markdown",
   "metadata": {
    "application/vnd.databricks.v1+cell": {
     "cellMetadata": {
      "byteLimit": 2048000,
      "rowLimit": 10000
     },
     "inputWidgets": {},
     "nuid": "8c9db68a-8580-410d-9c12-57231e182817",
     "showTitle": false,
     "tableResultSettingsMap": {},
     "title": ""
    }
   },
   "source": [
    "### Load data from Catalog for Model Parameterization\n",
    "\n",
    "In order to fully specify our optimization model, we need to provide all the required parameters stored in the catalog specified by the `catalog_name` widget found at the top of this notebook. The datasets are stored in your data catalog by the data preparation <a href=\"$./Prepare_Data\">Prepare_Data notebook</a> in the first cell. For this notebook, relevant datasets include a `_large` suffix."
   ]
  },
  {
   "cell_type": "code",
   "execution_count": 0,
   "metadata": {
    "application/vnd.databricks.v1+cell": {
     "cellMetadata": {
      "byteLimit": 2048000,
      "rowLimit": 10000
     },
     "inputWidgets": {},
     "nuid": "38672f91-470d-4363-b09a-a7d2d2bc6101",
     "showTitle": true,
     "tableResultSettingsMap": {},
     "title": "Read Catalog Data"
    }
   },
   "outputs": [],
   "source": [
    "\n",
    "# Read in all the necessary data tables\n",
    "relevant_set = ps.read_table(f\"{catalog_name}.{schema_name}.relevant_set_large\")\n",
    "lego_sets = ps.read_table(f\"{catalog_name}.{schema_name}.sets_large\")\n",
    "parts = ps.read_table(f\"{catalog_name}.{schema_name}.parts_large\")\n",
    "colors = ps.read_table(f\"{catalog_name}.{schema_name}.colors_large\")\n",
    "parts_avail = ps.read_table(f\"{catalog_name}.{schema_name}.parts_avail_large\")\n",
    "part_in_set = ps.read_table(f\"{catalog_name}.{schema_name}.part_in_set_large\")"
   ]
  },
  {
   "cell_type": "markdown",
   "metadata": {
    "application/vnd.databricks.v1+cell": {
     "cellMetadata": {
      "byteLimit": 2048000,
      "rowLimit": 10000
     },
     "inputWidgets": {},
     "nuid": "1208e639-0e16-4d0e-a481-a496dc4d2bcd",
     "showTitle": false,
     "tableResultSettingsMap": {},
     "title": ""
    }
   },
   "source": [
    "Next, we transform the raw datasets into sets that define buildable LEGO sets, brick parts, colors, and build requirements and can be used as input arguments to the `BaseLegoModel` class. These are the building blocks (pun intended) of your project. Once you have these parameters, it’s time for model building and **optimization**."
   ]
  },
  {
   "cell_type": "code",
   "execution_count": 0,
   "metadata": {
    "application/vnd.databricks.v1+cell": {
     "cellMetadata": {
      "byteLimit": 2048000,
      "rowLimit": 10000
     },
     "inputWidgets": {},
     "nuid": "55549629-7873-4182-b5f8-9f2bfa93381a",
     "showTitle": true,
     "tableResultSettingsMap": {},
     "title": "Convert raw catalog datasets to sets that parameterize BaseLegoModel"
    }
   },
   "outputs": [],
   "source": [
    "## Helper function to convert a pandas-on-Spark DataFrame to a dictionary\n",
    "def ps_to_dict(df_ps, column_key, column_value):\n",
    "    \"\"\"\n",
    "    Converts a pandas-on-Spark DataFrame to a dictionary.\n",
    "    \n",
    "    Parameters:\n",
    "    df_ps (ps.DataFrame): The pandas-on-Spark DataFrame.\n",
    "    column_key (str or list of str): Column(s) to use as the dictionary key(s).\n",
    "    column_value (str): Column to use as the dictionary value.\n",
    "    \n",
    "    Returns:\n",
    "    dict: A dictionary where keys are derived from `column_key` and values from `column_value`.\n",
    "    \"\"\"\n",
    "\n",
    "    # Single column key\n",
    "    if isinstance(column_key, str):\n",
    "        dictionary = dict(zip(\n",
    "            df_ps[column_key].to_numpy(), \n",
    "            df_ps[column_value].to_numpy()\n",
    "            ))\n",
    "\n",
    "    # Multi-column key\n",
    "    elif isinstance(column_key, list):\n",
    "        \n",
    "        dictionary = dict(zip(\n",
    "            zip(*(df_ps[col].to_numpy() for col in column_key)),\n",
    "            df_ps[column_value].to_numpy()\n",
    "        ))\n",
    "    \n",
    "    else:\n",
    "        raise ValueError(\"column_key must be a string or a list of strings.\")\n",
    "    \n",
    "    return dictionary\n",
    "\n",
    "\n",
    "## Create sets for the optimization model from the data\n",
    "\n",
    "# Create a set of unique part numbers \n",
    "s_part = set(\n",
    "    parts['part_num'].to_numpy()\n",
    ")\n",
    "             \n",
    "# Create a set of unique LEGO set numbers \n",
    "s_lego_set = set(\n",
    "    lego_sets['set_num'].to_numpy()\n",
    ")\n",
    "\n",
    "# Create a set of unique color IDs \n",
    "s_color = set(\n",
    "    colors['id'].to_numpy()\n",
    ")\n",
    "\n",
    "# Create a set of (part_num, color_id) pairs representing parts and their associated colors\n",
    "s_part_in_color = set(\n",
    "    zip(\n",
    "        part_in_set['part_num'].to_numpy(), \n",
    "        part_in_set['color_id'].to_numpy()\n",
    "    )\n",
    ")\n",
    "\n",
    "\n",
    "# Create a set of (set_num, part_num, color_id) tuples indicating which parts and colors are included in each set\n",
    "s_part_in_set = set(\n",
    "    zip(\n",
    "        part_in_set['set_num'].to_numpy(),\n",
    "        part_in_set['part_num'].to_numpy(),\n",
    "        part_in_set['color_id'].to_numpy()\n",
    "    )\n",
    ")\n",
    "\n",
    "## Define the parameters for the optimization model\n",
    "\n",
    "# number of parts available\n",
    "p_part_quantity_available = ps_to_dict(\n",
    "    parts_avail,\n",
    "    [\"part_num\", \"color_id\"],\n",
    "    \"quantity\"\n",
    ")\n",
    "\n",
    "# number of parts in each LEGO set per specific part type\n",
    "p_part_quantity_in_set = ps_to_dict(\n",
    "    part_in_set,\n",
    "    [\"set_num\", \"part_num\", \"color_id\"],\n",
    "    \"quantity\"\n",
    ")\n",
    "\n",
    "# part parameters\n",
    "p_part_name = ps_to_dict(\n",
    "    parts,\n",
    "    'part_num',\n",
    "    'name'\n",
    ")\n",
    "    \n",
    "# LEGO set parameters \n",
    "p_set_num_part = ps_to_dict(\n",
    "    lego_sets,\n",
    "    ['set_num', 'year'],\n",
    "    'num_parts'\n",
    ")     \n",
    "\n",
    "# set the quantity of all other parts to zero \n",
    "temp_dict = {\n",
    "    (p, c):0\n",
    "        for (p, c) in s_part_in_color\n",
    "        if (p, c) not in p_part_quantity_available\n",
    "}\n",
    "p_part_quantity_available.update(temp_dict)"
   ]
  },
  {
   "cell_type": "markdown",
   "metadata": {
    "application/vnd.databricks.v1+cell": {
     "cellMetadata": {
      "byteLimit": 2048000,
      "rowLimit": 10000
     },
     "inputWidgets": {},
     "nuid": "90e45eed-ec6e-41fa-ad02-0e7b9f8effdd",
     "showTitle": false,
     "tableResultSettingsMap": {},
     "title": ""
    }
   },
   "source": [
    "%md\n",
    "#### Objective Function\n",
    "For this example, we assume that the value of a set is proportional to the number of parts in the set. Thus, a set that has more parts is considered to be more desirable. Additionally, we assume older parts are more valuable"
   ]
  },
  {
   "cell_type": "code",
   "execution_count": 0,
   "metadata": {
    "application/vnd.databricks.v1+cell": {
     "cellMetadata": {
      "byteLimit": 2048000,
      "rowLimit": 10000
     },
     "inputWidgets": {},
     "nuid": "3ae7f973-6502-46b2-950c-c45dab6ab5f6",
     "showTitle": false,
     "tableResultSettingsMap": {},
     "title": ""
    }
   },
   "outputs": [],
   "source": [
    "# value of each set in the objective\n",
    "## assume set value is proportional to the number of parts in the set and higher for older sets\n",
    "year_gain_factor = 1.1\n",
    "p_set_num_value = {key[0]: value*year_gain_factor**(2025-key[1]) for key, value in p_set_num_part.items()}"
   ]
  },
  {
   "cell_type": "markdown",
   "metadata": {
    "application/vnd.databricks.v1+cell": {
     "cellMetadata": {
      "byteLimit": 2048000,
      "rowLimit": 10000
     },
     "inputWidgets": {},
     "nuid": "51188719-1589-417b-8e0a-5b7f5d0ed444",
     "showTitle": false,
     "tableResultSettingsMap": {},
     "title": ""
    }
   },
   "source": [
    "We have all the input parameters needed in the LEGO Assortment Optimization Model. "
   ]
  },
  {
   "cell_type": "markdown",
   "metadata": {
    "application/vnd.databricks.v1+cell": {
     "cellMetadata": {
      "byteLimit": 2048000,
      "rowLimit": 10000
     },
     "inputWidgets": {},
     "nuid": "2f8553b6-e340-41b3-b82a-d107b2b9c2b4",
     "showTitle": false,
     "tableResultSettingsMap": {},
     "title": ""
    }
   },
   "source": [
    "### Model Tracking\n",
    "Throughout the experimentation below we will demonstrate how to store important parameters and results using [MLflow Tracking](https://www.mlflow.org/). This ensures that our analysis is well-documented and easily accessible for future reference."
   ]
  },
  {
   "cell_type": "markdown",
   "metadata": {
    "application/vnd.databricks.v1+cell": {
     "cellMetadata": {
      "byteLimit": 2048000,
      "rowLimit": 10000
     },
     "inputWidgets": {},
     "nuid": "cd7ecad7-bb3e-49fe-aba5-87573b9d246e",
     "showTitle": false,
     "tableResultSettingsMap": {},
     "title": ""
    }
   },
   "source": [
    "### Build & Solve Model\n",
    "\n",
    "The inventory is parameterized in the sets and parameters that serve as the input arguments to the model class. The solve_model method will call Gurobi to explore the feasible space and build the most valuable collection of complete sets based on the perturbed inventory from the parts corresponding to more than 200 starting Star Wars LEGO sets.\n",
    "\n",
    "The output log of the solution progress will be returned as the solver works to find the optimal solution."
   ]
  },
  {
   "cell_type": "code",
   "execution_count": 0,
   "metadata": {
    "application/vnd.databricks.v1+cell": {
     "cellMetadata": {
      "byteLimit": 2048000,
      "rowLimit": 10000
     },
     "inputWidgets": {},
     "nuid": "ba9e40d1-f30f-40d4-a9c3-e80d0e2c5f17",
     "showTitle": true,
     "tableResultSettingsMap": {},
     "title": "Gurobi Optimal Solution"
    }
   },
   "outputs": [],
   "source": [
    "with mlflow.start_run(run_name=\"BaseLegoModel Large Inventory\") as run:\n",
    "    # We are creating an instance of the BaseLegoModel called base_model\n",
    "    # that is comprised of the various data components s_lego_set, s_part_in_set, etc.\n",
    "    base_model = BaseLegoModel(\n",
    "        s_lego_set,\n",
    "        s_part_in_set,\n",
    "        s_part_in_color,\n",
    "        p_part_quantity_in_set,\n",
    "        p_part_quantity_available,\n",
    "        p_set_num_value\n",
    "    )\n",
    "\n",
    "    # We are now calling the functions defined within the BaseLegoModel to generate, solve, and write the solution for the base_model\n",
    "    base_model.define_model()\n",
    "    base_model.solve_model()\n",
    "    base_model.write_solution()\n",
    "\n",
    "    # Log parameters and metrics\n",
    "    mlflow.log_metric(\"optimal_value\", base_model.optimal_value)\n",
    "    mlflow.log_metric(\"total_inventory_unused_bricks\", base_model.df_remaining_parts_data.Quantity.sum())"
   ]
  },
  {
   "cell_type": "markdown",
   "metadata": {
    "application/vnd.databricks.v1+cell": {
     "cellMetadata": {
      "byteLimit": 2048000,
      "rowLimit": 10000
     },
     "inputWidgets": {},
     "nuid": "16db10f9-b897-4493-9df1-ea172a6cd81d",
     "showTitle": false,
     "tableResultSettingsMap": {},
     "title": ""
    }
   },
   "source": [
    "As shown by the solver output above, Gurobi finds the optimal solution after a few iterations for the larger LEGO assortment problem definition. Starting with a heuristic solution with an objective surrounding 80k, the solver progresses to a final solution that is slightly higher than 95k and a gap of 0%, which means global optimality has been achieved. In other words, the solver guarantees that a better solution does not exist."
   ]
  },
  {
   "cell_type": "markdown",
   "metadata": {
    "application/vnd.databricks.v1+cell": {
     "cellMetadata": {
      "byteLimit": 2048000,
      "rowLimit": 10000
     },
     "inputWidgets": {},
     "nuid": "e1da01c7-b117-42e4-b4dd-7ebc9ab3bdf2",
     "showTitle": false,
     "tableResultSettingsMap": {},
     "title": ""
    }
   },
   "source": [
    "## Greedy Search Comparison\n",
    "Let’s explore an alternative solution that skips the optimization solver to get a \"good enough\" solution. We implement a greedy search algorithm where we attempt to build LEGO sets with the highest value as much as possible. First, we sort LEGO sets in descending order of value. Then, we attempt to build the most valuable set first. If successful, the parts are removed from the available inventory, and the algorithm moves to the next valuable set in the queue to determine if it can be built or not. This process continues until all sets have been considered or all available inventory is used up."
   ]
  },
  {
   "cell_type": "code",
   "execution_count": 0,
   "metadata": {
    "application/vnd.databricks.v1+cell": {
     "cellMetadata": {
      "byteLimit": 2048000,
      "rowLimit": 10000
     },
     "inputWidgets": {},
     "nuid": "217c321a-f4c6-4928-a448-e69f5e138824",
     "showTitle": true,
     "tableResultSettingsMap": {},
     "title": "Greedy Search Algorithm"
    }
   },
   "outputs": [],
   "source": [
    "with mlflow.start_run(run_name=\"GreedySearch Large Inventory\") as run:\n",
    "    # First assign value consistent to data preparation and order the lego sets in descending value\n",
    "    lego_sets['value'] = lego_sets['num_parts']*year_gain_factor**(2025-lego_sets['year'])\n",
    "    lego_sets = lego_sets.sort_values('value', ascending=False).reset_index(drop=True)\n",
    "    \n",
    "    # Next, we make a separate version of the available inventory for the heuristic to use so that we can compare solutions more easily\n",
    "    greedy_search_inventory = p_part_quantity_available.copy()\n",
    "\n",
    "    # Iterate over the ordered list to check if the most valuable LEGO sets can be built, and if so, remove the necessary parts from inventory\n",
    "    greedy_search_sets_built = dict()\n",
    "    for index, row in lego_sets.iterrows():\n",
    "        # Check if the set identified by row['set_num'] can be built\n",
    "        set_buildable = min( \n",
    "            {\n",
    "                (p, c): (greedy_search_inventory[p, c] - # From available inventory, subtract\n",
    "                        p_part_quantity_in_set[row['set_num'], p, c]) # parts required to build the set `set_num` \n",
    "                    if (row['set_num'], p, c) in s_part_in_set\n",
    "                    else greedy_search_inventory[p, c]\n",
    "                    for (p, c) in s_part_in_color\n",
    "            }.values()\n",
    "        ) >= 0 # Assuming we have sufficient parts to build the LEGO set (remaining are positive), we consider the set buildable\n",
    "        if set_buildable:\n",
    "            # If set is buildable, we update inventory to account for our decision to build this set\n",
    "            greedy_search_sets_built[row['set_num'], row['name']] = row['value']\n",
    "            # Update inventory to account for the fact that this LEGO set is now built, the parts are allocated and therefore not available to any other LEGO sets\n",
    "            greedy_search_inventory = {\n",
    "                (p, c): greedy_search_inventory[p, c] - p_part_quantity_in_set[row['set_num'], p, c]\n",
    "                    if (row['set_num'], p, c) in s_part_in_set\n",
    "                    else greedy_search_inventory[p, c]\n",
    "                    for (p, c) in s_part_in_color\n",
    "            }\n",
    "    \n",
    "    mlflow.log_metric(\"greedy_value\", sum(greedy_search_sets_built.values()))\n",
    "    mlflow.log_metric(\"total_inventory_unused_bricks\", sum(greedy_search_inventory.values()))"
   ]
  },
  {
   "cell_type": "code",
   "execution_count": 0,
   "metadata": {
    "application/vnd.databricks.v1+cell": {
     "cellMetadata": {
      "byteLimit": 2048000,
      "rowLimit": 10000
     },
     "inputWidgets": {},
     "nuid": "c5286713-f4f2-466d-bdc1-0590c580b19a",
     "showTitle": false,
     "tableResultSettingsMap": {},
     "title": ""
    }
   },
   "outputs": [],
   "source": [
    "# Compare to optimal solution\n",
    "optimal_value = base_model.optimal_value\n",
    "greedy_value = sum(greedy_search_sets_built.values())\n",
    "\n",
    "optimal_unused_total = int(base_model.df_remaining_parts_data.Quantity.sum())\n",
    "greedy_unused_total = sum(greedy_search_inventory.values())\n",
    "\n",
    "print(f'''\n",
    "      Optimal Collection Value:\\t {round(optimal_value, 2)}\n",
    "      Greedy Collection Value:\\t {round(greedy_value, 2)}\n",
    "      -----------------------------------------\n",
    "      Difference:\\t\\t {round(optimal_value - greedy_value, 2)}\n",
    "      Improvement:\\t\\t {round((optimal_value - greedy_value) / greedy_value * 100, 1)}%\n",
    "      '''\n",
    ")\n",
    "\n",
    "print(f'''\n",
    "      Optimal Solution Number of Unused bricks:\\t {optimal_unused_total}\n",
    "      Greedy Solution Number of Unused bricks:\\t {greedy_unused_total}\n",
    "      -----------------------------------------\n",
    "      Difference:\\t\\t {greedy_unused_total - optimal_unused_total} (greedy - optimal)\n",
    "      Improvement:\\t\\t {round((greedy_unused_total - optimal_unused_total) / greedy_unused_total * 100, 1)}%\n",
    "      '''\n",
    ")"
   ]
  },
  {
   "cell_type": "markdown",
   "metadata": {
    "application/vnd.databricks.v1+cell": {
     "cellMetadata": {
      "byteLimit": 2048000,
      "rowLimit": 10000
     },
     "inputWidgets": {},
     "nuid": "44d6253d-dc3e-41d9-a552-346a300260d0",
     "showTitle": false,
     "tableResultSettingsMap": {},
     "title": ""
    }
   },
   "source": [
    "The total value of the Heuristic-resulting LEGO set collection is 6.5% lower compared to the mathematical optimal solution. This value is achieved by reducing the total number of unused parts in the inventory by 10.1%, 2154 individual pieces. This highlights the benefits of mathematical optimization: you are able to achieve a higher total value with more efficient use of resources due to the holistic view of the problem at hand as opposed to the narrow scope utilized by a greedy heuristic.\n",
    "\n",
    "An increased margin of more than 5% can yield enormous benefits for most real-world organizations that face this type of problem. The value of optimization becomes even more significant as the number of variables and constraints grows to millions, a scenario that is quite common in real-life assortment applications and makes the use of heuristics or rules-of-thumb suboptimal."
   ]
  },
  {
   "cell_type": "markdown",
   "metadata": {
    "application/vnd.databricks.v1+cell": {
     "cellMetadata": {
      "byteLimit": 2048000,
      "rowLimit": 10000
     },
     "inputWidgets": {},
     "nuid": "ea50f798-0681-464a-b8da-86a973088793",
     "showTitle": false,
     "tableResultSettingsMap": {},
     "title": ""
    }
   },
   "source": [
    "### Optimal vs. Greedy Search Built Collection Differences\n",
    "Let’s take a closer look at how the collection built by the optimal approach achieves a higher value. First, we combine the lists of sets built by both approaches to see the differences between the solutions. Next, we perform aggregations to quantify their similarities and differences in terms of the number of sets built and their value. A table for the sets built by either approach in displayed in descending value. This analysis will clearly illustrate how the optimal strategy outperforms the greedy heuristic."
   ]
  },
  {
   "cell_type": "code",
   "execution_count": 0,
   "metadata": {
    "application/vnd.databricks.v1+cell": {
     "cellMetadata": {
      "byteLimit": 2048000,
      "rowLimit": 10000
     },
     "inputWidgets": {},
     "nuid": "e766edff-2445-4b2a-8973-5fbe05da0098",
     "showTitle": true,
     "tableResultSettingsMap": {},
     "title": "Greedy Search vs. Optimal Solution"
    }
   },
   "outputs": [],
   "source": [
    "# Create a DataFrame of LEGO sets obtained from Greedy search\n",
    "greedy_df = pd.DataFrame(\n",
    "    data=greedy_search_sets_built.values(),\n",
    "    index=greedy_search_sets_built.keys(),\n",
    "    columns=['Value']\n",
    ").reset_index()\n",
    "greedy_df.columns = ['set_num', 'name', 'value']\n",
    "\n",
    "# Create a DataFrame of LEGO sets obtained from optimization model\n",
    "optimal_df = base_model.df_bv_select_data[['Set']].merge(\n",
    "    lego_sets.to_pandas()[['set_num', 'name', 'value']],\n",
    "    left_on='Set',\n",
    "    right_on='set_num',\n",
    "    how='left'\n",
    ")\n",
    "optimal_df.drop(columns=['Set'], inplace=True)\n",
    "\n",
    "# We identify the sets built by each approach and identify:\n",
    "# Sets built uniquely by Optimization Strategy\n",
    "# Sets built uniquely by the Greedy Search Strategy\n",
    "# Sets common to both strategies\n",
    "combined_df = optimal_df.merge(greedy_df, how='outer', indicator=True)\n",
    "combined_df.rename(columns={'_merge': 'Built by Strategy'}, inplace=True)\n",
    "combined_df['Built by Strategy'].replace({'both': 'Both', 'left_only': 'Optimal Only', 'right_only': 'Greedy Only'}, inplace=True)\n",
    "combined_df['Value Tercile'] = pd.qcut(combined_df['value'], 3, labels=['Low', 'Medium', 'High'])\n",
    "display(combined_df.sort_values(by='value', ascending=False))\n",
    "print('Number of sets built by each approach:')\n",
    "display(combined_df['Built by Strategy'].value_counts())"
   ]
  },
  {
   "cell_type": "markdown",
   "metadata": {
    "application/vnd.databricks.v1+cell": {
     "cellMetadata": {
      "byteLimit": 2048000,
      "rowLimit": 10000
     },
     "inputWidgets": {},
     "nuid": "367327bf-6460-411e-bf6a-5f22092125af",
     "showTitle": false,
     "tableResultSettingsMap": {},
     "title": ""
    }
   },
   "source": [
    "### The Value of Optimization\n",
    "\n",
    "Now that both the optimal and greedy solutions are available, we can compare them by aggregating and visualizing the obtained value from each method. We do this by labeling each set, built by either method, in value terciles (Low, Medium, High).\n",
    "\n",
    "We then plot the distribution in number and value for each solution. To identify the specific differences we group the bar plots by the sets that are found in the solutions of both methods 'Both' and we label the ones found exclusively in each solution as '(Optimal or Greedy) Only'."
   ]
  },
  {
   "cell_type": "code",
   "execution_count": 0,
   "metadata": {
    "application/vnd.databricks.v1+cell": {
     "cellMetadata": {
      "byteLimit": 2048000,
      "rowLimit": 10000
     },
     "inputWidgets": {},
     "nuid": "8f0af6ca-5769-405b-9338-47b0fcaa6e06",
     "showTitle": false,
     "tableResultSettingsMap": {},
     "title": ""
    }
   },
   "outputs": [],
   "source": [
    "import matplotlib.pyplot as plt\n",
    "_, ax = plt.subplots(1, 2, figsize=(16, 4))\n",
    "\n",
    "combined_value_df = combined_df\\\n",
    "    .sort_values(by='Built by Strategy')\\\n",
    "    .pivot_table(values='value', index='Built by Strategy', columns='Value Tercile', aggfunc='sum')\n",
    "\n",
    "combined_number_df = combined_df\\\n",
    "    .groupby(['Built by Strategy', 'Value Tercile'])['set_num']\\\n",
    "    .nunique()\\\n",
    "    .unstack()\n",
    "\n",
    "combined_value_df.plot(kind='bar', stacked=True, color=['tab:blue', 'tab:orange', 'tab:green'], ax=ax[0])\n",
    "for container in ax[0].containers:\n",
    "    ax[0].bar_label(container, fmt='%.0f', label_type='edge', fontsize=7)\n",
    "ax[0].grid(axis='y')\n",
    "ax[0].set_xticklabels(['Optimal Only', 'Greedy Only', 'Both'], rotation=0)\n",
    "ax[0].set_title('Value Contribution by Set Value Tercile and Strategy')\n",
    "\n",
    "combined_number_df.plot(kind='bar', stacked=True, color=['tab:blue', 'tab:orange', 'tab:green'], ax=ax[1])\n",
    "for container in ax[1].containers:\n",
    "    ax[1].bar_label(container, fmt='%.0f', label_type='edge', fontsize=7)\n",
    "ax[1].grid(axis='y')\n",
    "ax[1].set_xticklabels(['Optimal Only', 'Greedy Only', 'Both'], rotation=0)\n",
    "ax[1].set_title('Number of Built Sets by Set Value Tercile and Strategy')"
   ]
  },
  {
   "cell_type": "code",
   "execution_count": 0,
   "metadata": {
    "application/vnd.databricks.v1+cell": {
     "cellMetadata": {
      "byteLimit": 2048000,
      "rowLimit": 10000
     },
     "inputWidgets": {},
     "nuid": "5a001886-323a-43fe-8f3b-66326d59ed6f",
     "showTitle": true,
     "tableResultSettingsMap": {},
     "title": "Gurobi Base Model Disposal"
    }
   },
   "outputs": [],
   "source": [
    "# Recall, best practices are to free the gurobi environment after use\n",
    "# Dispose base model instance\n",
    "base_model.model.dispose()\n",
    "base_model.env.dispose()"
   ]
  },
  {
   "cell_type": "markdown",
   "metadata": {
    "application/vnd.databricks.v1+cell": {
     "cellMetadata": {
      "byteLimit": 2048000,
      "rowLimit": 10000
     },
     "inputWidgets": {},
     "nuid": "c633a337-9c4f-4cdf-a61c-68c630c0b16a",
     "showTitle": false,
     "tableResultSettingsMap": {},
     "title": ""
    }
   },
   "source": [
    "By having a closer look to the results of the optimization and greedy search approaches, the value of the latter is unveiled. Notice that the total number of sets in the optimal collection is much higher than the greedy search (110 vs. 92).\n",
    "\n",
    "Fundamentally, the greedy approach is limited by not having a holistic view of the problem at hand. This can be checked by ordering the combined built set data by value. One can see that both approaches select the most valuable 13 sets. Further down the list, it is evident that the greedy approach is consistent with its name as valuable selections such as \"Droid Gunship\" or \"Ahsoka's Starfighter and Vulture Droid\" are made, which in turn make other less valuable sets impossible to build, reducing the overall value of the final collection.\n",
    "\n",
    "In contrast, the optimization model chooses to make sets that might have lower value compared to sets such as \"Droid Gunship\", but by utilizing available parts efficiently, it is able to make many more of these lower value sets resulting in a higher overall objective value. "
   ]
  },
  {
   "cell_type": "markdown",
   "metadata": {
    "application/vnd.databricks.v1+cell": {
     "cellMetadata": {
      "byteLimit": 2048000,
      "rowLimit": 10000
     },
     "inputWidgets": {},
     "nuid": "e66262db-4951-4fb8-9137-3a9df9a0d653",
     "showTitle": false,
     "tableResultSettingsMap": {},
     "title": ""
    }
   },
   "source": [
    "## Extracting Additional Value\n",
    "\n",
    "The value of optimization has been clearly demonstrated with the example above. Although the problem was increased in size significantly with respect to the minimal introductory problem instance, this is still very small and simple compared to real life Decision Science problems. When the number of variables and constraints grow large and complex enough, optimization could be the only efficient approach to obtain an economically feasible solution.\n",
    "\n",
    "Below we will introduce interesting modifications to our LEGO assortment problem to illustrate how to translate real assortment considerations into efficient constraint formulations.\n",
    "\n",
    "We start by examining the value of the collection that would have been obtained without perturbing the available inventory:"
   ]
  },
  {
   "cell_type": "code",
   "execution_count": 0,
   "metadata": {
    "application/vnd.databricks.v1+cell": {
     "cellMetadata": {
      "byteLimit": 2048000,
      "rowLimit": 10000
     },
     "inputWidgets": {},
     "nuid": "32614748-ec8b-4782-985c-0bdee1db0ed6",
     "showTitle": true,
     "tableResultSettingsMap": {},
     "title": "Original Collection Value"
    }
   },
   "outputs": [],
   "source": [
    "original_value = round(lego_sets['value'].sum(), 2)\n",
    "print(f'''\n",
    "      Unperturbed Collection Value:\\t\\t\\t {original_value}\n",
    "      Optimal (Perturbed Inventory) Collection Value:\\t {round(optimal_value, 2)}\n",
    "      -----------------------------------------\n",
    "      Difference:\\t\\t\\t\\t\\t {round(original_value - optimal_value, 2)}\n",
    "      Loss Value:\\t\\t\\t\\t\\t {round((original_value - optimal_value) / original_value * 100, 1)}%\n",
    "      '''\n",
    ")"
   ]
  },
  {
   "cell_type": "markdown",
   "metadata": {
    "application/vnd.databricks.v1+cell": {
     "cellMetadata": {
      "byteLimit": 2048000,
      "rowLimit": 10000
     },
     "inputWidgets": {},
     "nuid": "dc8b7df2-83b4-4744-983b-4b3c580e5157",
     "showTitle": false,
     "tableResultSettingsMap": {},
     "title": ""
    }
   },
   "source": [
    "Although the optimal solution extracted significant value from the perturbed inventory, there are still unused pieces and value left on the table in terms of sets that could have been built if no pieces were lost. \n",
    "\n",
    "One option to extract value from remaining unused parts is to selectively purchase specific pieces that will allow us to complete additional sets.\n",
    "\n",
    "We introduce a \"budget\" of a finite number of parts to be purchased and let the optimization problem decide which are the best pieces to acquire with the goal of completing high value LEGO sets."
   ]
  },
  {
   "cell_type": "markdown",
   "metadata": {
    "application/vnd.databricks.v1+cell": {
     "cellMetadata": {
      "byteLimit": 2048000,
      "rowLimit": 10000
     },
     "inputWidgets": {},
     "nuid": "3dcb2b4e-186d-438c-9b6f-24b8fb0dd646",
     "showTitle": false,
     "tableResultSettingsMap": {},
     "title": ""
    }
   },
   "source": [
    "%md\n",
    "### Part Purchasing Model Formulation\n",
    "\n",
    "Now we are interested in extending the model logic to include the option of purchasing parts under a limited budget. The original formulation lacks the variables and expressions to handle this extension.\n",
    "\n",
    "From the perspective of optimization model components we need two major changes:\n",
    "\n",
    "- First, we introduce new variables that specify the quantity of each part in color that the optimization will select to purchase. We can choose to purchase multiple parts of the same type and color. Therefore, these variables are defined as 'integer variables' as they can take integral values (0, 1, 2, 3..)\n",
    "\n",
    "    $$ iv^{\\text{Purchase}}_{p,c} $$\n",
    "\n",
    "    For example, the optimizer can determine that we should purchase 5 parts of type p in color c. The optimizer will do so to enable us to build additional collections which must be accounted for in the balance constraint.\n",
    "\n",
    "\n",
    "- The original constraint needs to be modified to incorporate potential additional pieces obtained via purchase. We include an additional term in the right hand side of the original constraint expression. This term is exactly the 'integer variable' defined in the previous step and ensures newly purchased pieces if any, are correctly accounted for in our available inventory.\n",
    "\n",
    "    $$ \\sum_{s:(s,p,c)\\in \\text{PartInSet}} \\text{PartQinSet}_{s,p,c} \\times bv^{\\text{SelectSet}}_{s} \\leq \\text{PartQAvail}_{p,c} + iv^{\\text{Purchase}}_{p,c} \\qquad \\forall (p,c) \\in \\text{PartInColor}$$ \n",
    "\n",
    "\n",
    "- We assign a finite budget on the number of parts that can be purchased:\n",
    "\n",
    "$$ \\sum_{(p,c)\\in \\text{PartInColor}} iv^{\\text{Purchase}}_{p,c} \\leq \\text{PurchaseLimit} $$\n",
    "\n",
    "\n",
    "- Lastly, purchasing additional parts incurs a cost. We modify our objective function to correctly reflect this cost. For the purpose of this demonstration, we'll assume that all parts incur the same cost. The objective becomes the difference of the value of the collections completed and the cost of parts purchased:\n",
    "\n",
    "$$ \\text{max} \\sum_{s} \\text{SetValue}_{s} \\times bv^{\\text{SelectSet}}_{s} - \\sum_{p,c} \\text{UnitPartCost} \\times iv^{\\text{Purchase}}_{p,c}$$\n",
    "\n",
    "\n",
    "We rely on class inheritance to avoid redefining methods that do not need to be updated and reuse parts of our existing implementation.\n"
   ]
  },
  {
   "cell_type": "code",
   "execution_count": 0,
   "metadata": {
    "application/vnd.databricks.v1+cell": {
     "cellMetadata": {
      "byteLimit": 2048000,
      "rowLimit": 10000
     },
     "inputWidgets": {},
     "nuid": "65a81fee-d2ed-4f0c-952e-e352bd9a30b8",
     "showTitle": true,
     "tableResultSettingsMap": {},
     "title": "Part Purchase Model Definition"
    }
   },
   "outputs": [],
   "source": [
    "# Define a modified model class to allow part purchases\n",
    "class PartPurchaseLegoModel(BaseLegoModel):\n",
    "    \"\"\" LEGO assortment optimization model with part purchase\n",
    "        constraints.  \n",
    "    \"\"\"\n",
    "\n",
    "    def __init__(\n",
    "        self, \n",
    "        s_lego_set: set, \n",
    "        s_part_in_set: set,\n",
    "        s_part_in_color: set,\n",
    "        p_part_quantity_in_set: dict, \n",
    "        p_part_quantity_available: dict,\n",
    "        p_set_num_value: dict,\n",
    "        p_max_parts_purchased: int,\n",
    "        p_part_cost: int\n",
    "    ) -> None:\n",
    "        \"\"\" Initialize model instance with additional part budget parameters.\n",
    "\n",
    "        First initialize the base model class. Two additional parameters are introduced.\n",
    "\n",
    "        Parameters:\n",
    "        - p_max_parts_purchased: int, maximum number of parts to be purchased\n",
    "        - p_part_cost: int, cost of purchasing a single part (same for all parts)\n",
    "        \"\"\"\n",
    "        # call the parent objects initialization method\n",
    "        super().__init__(\n",
    "            s_lego_set,\n",
    "            s_part_in_set,\n",
    "            s_part_in_color,\n",
    "            p_part_quantity_in_set,\n",
    "            p_part_quantity_available,\n",
    "            p_set_num_value\n",
    "        )\n",
    "        self.p_max_parts_purchased = p_max_parts_purchased\n",
    "        self.p_part_cost = p_part_cost\n",
    "    \n",
    "    def _integer_variables(self) -> None:\n",
    "        \"\"\" Define the integer optimization variables that specify the number of a\n",
    "        part (and its color) to be purchased.\n",
    "        \"\"\"\n",
    "        self.iv_purchase = self.model.addVars(\n",
    "            s_part_in_color,\n",
    "            vtype=GRB.INTEGER,\n",
    "            name=\"iv_purchase\"\n",
    "        )\n",
    "    \n",
    "    def _constraint_part_inventory(self) -> None:\n",
    "        \"\"\" Modified part inventory balance constraint.\n",
    "        \n",
    "        The left hand side remains the same as the base model. The right hand side\n",
    "        is modified to include the number of parts purchased for each part-color\n",
    "        combination.\n",
    "        \"\"\"\n",
    "        # Iterate over all part-color combinations\n",
    "        for (p, c) in self.s_part_in_color:\n",
    "            cons_name = f\"c_part_quantity_balance[{p}-{c}]\"\n",
    "            constr = (\n",
    "                sum(\n",
    "                    self.p_part_quantity_in_set[s, p, c] * self.bv_select_set[s]\n",
    "                    for s in self.s_lego_set\n",
    "                    if (s, p, c) in self.s_part_in_set\n",
    "                ) <= self.p_part_quantity_available[p, c] + self.iv_purchase[p, c]\n",
    "            )\n",
    "            self.model.addConstr(constr, name=cons_name)\n",
    "    \n",
    "    def _constraint_part_purchase(self) -> None:\n",
    "        \"\"\" Limit the total number of parts purchased.\n",
    "\n",
    "        A simple balance for the allowed total across all part-color combinations.\n",
    "        \"\"\"\n",
    "        constr = (\n",
    "            sum(\n",
    "                self.iv_purchase[p, c] for (p, c) in s_part_in_color\n",
    "            ) <= self.p_max_parts_purchased\n",
    "        )\n",
    "        self.model.addConstr(constr, name=\"c_total_purchase_limit_balance\")\n",
    "    \n",
    "    def _objective_function(self) -> None:\n",
    "        \"\"\" Modified objective function.\n",
    "        \n",
    "        A second term that reflects the incurred cost of purchasing parts.\n",
    "        \"\"\"\n",
    "        obj = sum(\n",
    "            self.p_set_num_value[s] * self.bv_select_set[s]\n",
    "            for s in self.s_lego_set\n",
    "        ) - self.p_part_cost*sum(\n",
    "            self.iv_purchase[p, c]\n",
    "            for (p, c) in self.s_part_in_color\n",
    "        )\n",
    "        self.model.setObjective(obj, GRB.MAXIMIZE)\n",
    "    \n",
    "    def define_model(self) -> None:\n",
    "        \"\"\" Modified model definition method.\n",
    "\n",
    "        Since we are including new variables, constraints and a modified\n",
    "        objective function, we need to override the base class method with\n",
    "        a sequence of method calls that reflects the new logic.\n",
    "        \"\"\"\n",
    "        self._binary_variables()\n",
    "        self._integer_variables()\n",
    "        self._constraint_part_inventory()\n",
    "        self._constraint_part_purchase()\n",
    "        self._objective_function()\n",
    "        self.model.update()\n"
   ]
  },
  {
   "cell_type": "markdown",
   "metadata": {
    "application/vnd.databricks.v1+cell": {
     "cellMetadata": {
      "byteLimit": 2048000,
      "rowLimit": 10000
     },
     "inputWidgets": {},
     "nuid": "fe9ab4fa-f3c1-4332-a397-6b19acc425c8",
     "showTitle": false,
     "tableResultSettingsMap": {},
     "title": ""
    }
   },
   "source": [
    "%md\n",
    "### Build & Solve Part Purchase Model\n",
    "\n",
    "The model is now complete. The solver will search the feasible space to build the most valuable collection of complete sets based on the perturbed inventory and the allowed part purchase budget from the parts corresponding to the 203 starting Star Wars sets.\n",
    "\n",
    "To make things interesting, let's solve the model for a range of part budgets. This analysis demonstrates the ability of optimization to provide answers to what-if scenarios. This is both demonstrated by:\n",
    "- Including additional logic that models the ability to purchase parts\n",
    "- Experiment with the richer modified model by adjusting the parameters that define our part purchase logic\n",
    "\n",
    "We don't need to re-instantiate the model for each point in the experiment. We simply redefine the class parameter across the experimental space and call the `define_model` and `solve_model` methods as we iterate to obtain the desired solutions.\n",
    "\n",
    "We store the solutions for each experimental point in order to visualize the results."
   ]
  },
  {
   "cell_type": "code",
   "execution_count": 0,
   "metadata": {
    "application/vnd.databricks.v1+cell": {
     "cellMetadata": {
      "byteLimit": 2048000,
      "rowLimit": 10000
     },
     "inputWidgets": {},
     "nuid": "25107c5d-41e2-43fd-a313-3637e4207f40",
     "showTitle": false,
     "tableResultSettingsMap": {},
     "title": ""
    }
   },
   "outputs": [],
   "source": [
    "p_part_cost = 10 # Assumed cost for purchasing a part (constant across all parts)\n",
    "purchase_solutions_df = pd.DataFrame(columns=['Optimal Value', 'Max Parts Purchased', 'Unused Inventory Parts Total'])\n",
    "\n",
    "# A list of scenarios for different values of maximum number of parts to purchase\n",
    "p_max_parts_purchased_set = list(range(0, 191, 10)) + list(range(200, 2101, 100))\n",
    "purchase_model = PartPurchaseLegoModel(\n",
    "    s_lego_set,\n",
    "    s_part_in_set,\n",
    "    s_part_in_color,\n",
    "    p_part_quantity_in_set,\n",
    "    p_part_quantity_available,\n",
    "    p_set_num_value,\n",
    "    0,\n",
    "    p_part_cost,\n",
    ")\n",
    "\n",
    "with mlflow.start_run(run_name=\"PartPurchaseLegoModel Part Budget Sensitivity\") as run:\n",
    "    # We solve for all scenarios of limit on maximum number of parts purchased ina  for loop\n",
    "    for i, p_max_parts_purchased in enumerate(p_max_parts_purchased_set):   \n",
    "        purchase_model.p_max_parts_purchased = p_max_parts_purchased\n",
    "        purchase_model.define_model()\n",
    "        purchase_model.solve_model()\n",
    "        purchase_model.write_solution()\n",
    "        unused_inventory_parts_total = purchase_model.df_remaining_parts_data.Quantity.sum()\n",
    "        purchase_solutions_df.loc[i] = [purchase_model.optimal_value, p_max_parts_purchased, unused_inventory_parts_total]\n",
    "    ax_cost = purchase_solutions_df.plot(x='Max Parts Purchased', y='Optimal Value', figsize=(16, 4))\n",
    "    ax_cost.grid(axis='y')\n",
    "\n",
    "    ax_parts = purchase_solutions_df.plot(x='Max Parts Purchased', y='Unused Inventory Parts Total', figsize=(16, 4))\n",
    "    ax_parts.grid(axis='y')\n",
    "\n",
    "    # Store the dataframe to MLflow\n",
    "    purchase_solutions_df.to_csv(\"purchase_parts_sensitivity_solutions.csv\")\n",
    "    mlflow.log_artifact(\"./purchase_parts_sensitivity_solutions.csv\")\n",
    "\n",
    "    # Store the plots to MLflow\n",
    "    mlflow.log_figure(ax_cost.get_figure(), \"purchase_model_cost_plot.png\")\n",
    "    mlflow.log_figure(ax_parts.get_figure(), \"purchase_model_parts_plot.png\")"
   ]
  },
  {
   "cell_type": "markdown",
   "metadata": {
    "application/vnd.databricks.v1+cell": {
     "cellMetadata": {
      "byteLimit": 2048000,
      "rowLimit": 10000
     },
     "inputWidgets": {},
     "nuid": "5189a12b-efd2-4c2c-acad-6a7be03126e4",
     "showTitle": false,
     "tableResultSettingsMap": {},
     "title": ""
    }
   },
   "source": [
    "The part purchase option recovers value optimally according to the part purchase budget. Gurobi has selected the precise set that maximizes the overall collection value at each specified point, with a global optimality guarantee, while respecting the allowed budget for parts purchase. As shown by the figures above, one can adjust the maximum number of parts to be purchased to a high enough value to recover all the initial sets (e.g. `p_max_parts_purchased = 2500`). However, we can't recover the original value as the modified objective takes into account the incurred cost of parts purchase. The Number of unused pieces decreases at a rate the almost mirrors the increase of value as more parts are allowed. Finally, note that the extended model formulation is equivalent to the original base model formulation if the part budgets is set to zero. \n",
    "\n",
    "This exercise demonstrates how practical considerations can be incrementally incorporated into an optimization model. This enables a thorough analysis of the trade-offs that organizations and decision-makers encounter to make more informed and effective choices.\n",
    "\n",
    "Based on our analysis of varying parts budgets, we decide to store a final run with an allowance for purchasing 300 parts. Based on the plots above, we can expect to recover more than 30,000 in value while reducing the unused inventory by more than 5000 bricks with this selection."
   ]
  },
  {
   "cell_type": "code",
   "execution_count": 0,
   "metadata": {
    "application/vnd.databricks.v1+cell": {
     "cellMetadata": {
      "byteLimit": 2048000,
      "rowLimit": 10000
     },
     "inputWidgets": {},
     "nuid": "438b545e-10d0-4a0d-9d2e-546b1735c88c",
     "showTitle": false,
     "tableResultSettingsMap": {},
     "title": ""
    }
   },
   "outputs": [],
   "source": [
    "purchase_model.p_max_parts_purchased = 300\n",
    "\n",
    "# Start an MLflow run\n",
    "with mlflow.start_run(run_name=f\"PartPurchaseLegoModel Part Budget {purchase_model.p_max_parts_purchased}\") as run:\n",
    "    purchase_model.define_model()\n",
    "    purchase_model.solve_model()\n",
    "    purchase_model.write_solution()\n",
    "    \n",
    "    # Log parameters and metrics\n",
    "    mlflow.log_param(\"p_max_parts_purchased\", purchase_model.p_max_parts_purchased)\n",
    "    mlflow.log_metric(\"optimal_value\", purchase_model.optimal_value)\n",
    "    mlflow.log_metric(\"total_inventory_unused_bricks\", purchase_model.df_remaining_parts_data.Quantity.sum())"
   ]
  },
  {
   "cell_type": "code",
   "execution_count": 0,
   "metadata": {
    "application/vnd.databricks.v1+cell": {
     "cellMetadata": {
      "byteLimit": 2048000,
      "rowLimit": 10000
     },
     "inputWidgets": {},
     "nuid": "8122bd14-d79b-49db-8f0c-3efed425f64b",
     "showTitle": true,
     "tableResultSettingsMap": {},
     "title": "Dispose Purchase Model and Environment"
    }
   },
   "outputs": [],
   "source": [
    "# Dispose purchase model instance\n",
    "purchase_model.model.dispose()\n",
    "purchase_model.env.dispose()"
   ]
  },
  {
   "cell_type": "markdown",
   "metadata": {
    "application/vnd.databricks.v1+cell": {
     "cellMetadata": {},
     "inputWidgets": {},
     "nuid": "71c69758-c825-4cdc-9abf-32fa634b0724",
     "showTitle": false,
     "tableResultSettingsMap": {},
     "title": ""
    }
   },
   "source": [
    "### What's Next?\n",
    "\n",
    "Through this series of notebooks, we have:\n",
    "- introduced key concepts of mathematical optimization\n",
    "- developed a mathematical optimization model for a LEGO assortment problem\n",
    "- implemented the model and solved it with Gurobi in Databricks\n",
    "- demonstrated scalability of mathematical optimization by applying it on a large dataset\n",
    "- showcased the value of optimization by comparing results of mathematical optimization with Gurobi against a greedy heuristic\n",
    "- demonstrated scenario analysis with a variant of our original mathematical model\n",
    "\n",
    "This concludes our initial deep dive into mathematical optimization. Please keep an eye on the Databricks website for our upcoming accelerator on Assortment Optimization which will demonstrate how to tackle a complex, large scale and real-world application of mathematical optimization applicable for many retail and consumer goods organizations.\n",
    "\n",
    "### Authors\n",
    "These notebooks and the associated [blog](hyperlink when link is ready) were jointly authored by [Juan Morinelli](https://www.aimpointdigital.com/team/juan-morinelli) (Aimpoint Digital), Linlin Yang (Aimpoint Digital), Peyman Mohajerian (Databricks) and Bryan Smith (Databricks).\n",
    "\n",
    "### About Aimpoint Digital\n",
    "Aimpoint Digital is a market-leading analytics firm at the forefront of solving the most complex business and economic challenges through data and analytical technology. From integrating self-service analytics to implementing AI at scale and modernizing data infrastructure environments, Aimpoint Digital operates across transformative domains to improve the performance of organizations. Learn more by visiting: https://www.aimpointdigital.com/"
   ]
  }
 ],
 "metadata": {
  "application/vnd.databricks.v1+notebook": {
   "computePreferences": null,
   "dashboards": [],
   "environmentMetadata": {
    "base_environment": "",
    "environment_version": "1"
   },
   "language": "python",
   "notebookMetadata": {
    "pythonIndentUnit": 4
   },
   "notebookName": "03_Optimization_Model_Large",
   "widgets": {
    "catalog_name": {
     "currentValue": "prod_catalog",
     "nuid": "835bd7e9-3462-443c-9329-36d9c2cb9b35",
     "typedWidgetInfo": {
      "autoCreated": false,
      "defaultValue": "catalog_name",
      "label": "Enter catalog name",
      "name": "catalog_name",
      "options": {
       "widgetDisplayType": "Text",
       "validationRegex": null
      },
      "parameterDataType": "String"
     },
     "widgetInfo": {
      "widgetType": "text",
      "defaultValue": "catalog_name",
      "label": "Enter catalog name",
      "name": "catalog_name",
      "options": {
       "widgetType": "text",
       "autoCreated": null,
       "validationRegex": null
      }
     }
    },
    "schema_name": {
     "currentValue": "legos",
     "nuid": "9b452608-7bab-4ba5-8d68-a6f7cbcebd51",
     "typedWidgetInfo": {
      "autoCreated": false,
      "defaultValue": "schema_name",
      "label": "Enter schema name",
      "name": "schema_name",
      "options": {
       "widgetDisplayType": "Text",
       "validationRegex": null
      },
      "parameterDataType": "String"
     },
     "widgetInfo": {
      "widgetType": "text",
      "defaultValue": "schema_name",
      "label": "Enter schema name",
      "name": "schema_name",
      "options": {
       "widgetType": "text",
       "autoCreated": null,
       "validationRegex": null
      }
     }
    }
   }
  },
  "language_info": {
   "name": "python"
  }
 },
 "nbformat": 4,
 "nbformat_minor": 0
}
