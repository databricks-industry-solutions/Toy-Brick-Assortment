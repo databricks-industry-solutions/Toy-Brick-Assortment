{
 "cells": [
  {
   "cell_type": "markdown",
   "metadata": {
    "application/vnd.databricks.v1+cell": {
     "cellMetadata": {
      "byteLimit": 2048000,
      "rowLimit": 10000
     },
     "inputWidgets": {},
     "nuid": "0807be36-32f6-42cd-ad32-217a97ff8bd7",
     "showTitle": false,
     "tableResultSettingsMap": {},
     "title": ""
    }
   },
   "source": [
    "This notebook follows the <a href=\"$./Prepare_Data\">Prepare_Data notebook</a>. In this notebook, we will create an optimization model to determine which LEGO sets can be created from the collection (loose pile) of LEGO parts available.  "
   ]
  },
  {
   "cell_type": "markdown",
   "metadata": {
    "application/vnd.databricks.v1+cell": {
     "cellMetadata": {
      "byteLimit": 2048000,
      "rowLimit": 10000
     },
     "inputWidgets": {},
     "nuid": "087f169d-0496-4330-bd24-f23f9434dd8c",
     "showTitle": false,
     "tableResultSettingsMap": {},
     "title": ""
    }
   },
   "source": [
    "## Set up and initialize"
   ]
  },
  {
   "cell_type": "markdown",
   "metadata": {
    "application/vnd.databricks.v1+cell": {
     "cellMetadata": {
      "byteLimit": 2048000,
      "rowLimit": 10000
     },
     "inputWidgets": {},
     "nuid": "66f22570-2b57-45a3-9b73-1a4ead3a6287",
     "showTitle": false,
     "tableResultSettingsMap": {},
     "title": ""
    }
   },
   "source": [
    "### Import necessary packages\n",
    "\n",
    "The optimization model will be implemented using Gurobipy (Python API of Gurobi).  We need to make sure that Gurobipy is installed and ready to be used."
   ]
  },
  {
   "cell_type": "code",
   "execution_count": 0,
   "metadata": {
    "application/vnd.databricks.v1+cell": {
     "cellMetadata": {
      "byteLimit": 2048000,
      "rowLimit": 10000
     },
     "inputWidgets": {},
     "nuid": "50404594-0cad-4170-8b8c-51ca36f24c69",
     "showTitle": false,
     "tableResultSettingsMap": {},
     "title": ""
    }
   },
   "outputs": [],
   "source": [
    "%pip install gurobipy==12.0.0\n",
    "dbutils.library.restartPython()"
   ]
  },
  {
   "cell_type": "code",
   "execution_count": 0,
   "metadata": {
    "application/vnd.databricks.v1+cell": {
     "cellMetadata": {
      "byteLimit": 2048000,
      "rowLimit": 10000
     },
     "inputWidgets": {},
     "nuid": "599b6f42-171d-4958-a4a9-eb8290735191",
     "showTitle": true,
     "tableResultSettingsMap": {},
     "title": "Import packages"
    }
   },
   "outputs": [],
   "source": [
    "# Package imports\n",
    "\n",
    "# Gurobi optimization library for model implementation\n",
    "from gurobipy import GRB \n",
    "import gurobipy as gp\n",
    "\n",
    "# Importing essential modules from pyspark.sql for DataFrame and Spark session management\n",
    "from pyspark.sql import Row, SparkSession\n",
    "import pyspark.pandas as ps\n",
    "import pandas as pd\n",
    "import numpy as np\n",
    "\n",
    "# Filter warnings\n",
    "import warnings\n",
    "from pyspark.pandas.utils import PandasAPIOnSparkAdviceWarning\n",
    "warnings.filterwarnings('ignore', category=PandasAPIOnSparkAdviceWarning)"
   ]
  },
  {
   "cell_type": "markdown",
   "metadata": {
    "application/vnd.databricks.v1+cell": {
     "cellMetadata": {
      "byteLimit": 2048000,
      "rowLimit": 10000
     },
     "inputWidgets": {},
     "nuid": "8c9db68a-8580-410d-9c12-57231e182817",
     "showTitle": false,
     "tableResultSettingsMap": {},
     "title": ""
    }
   },
   "source": [
    "### Load input data from Catalog\n",
    "\n",
    "With our imports set, the next step is to load the data required for the model. We'll use the data previously processed into tables in the Prepare_Data notebook as inputs."
   ]
  },
  {
   "cell_type": "code",
   "execution_count": 0,
   "metadata": {
    "application/vnd.databricks.v1+cell": {
     "cellMetadata": {
      "byteLimit": 2048000,
      "rowLimit": 10000
     },
     "inputWidgets": {},
     "nuid": "38672f91-470d-4363-b09a-a7d2d2bc6101",
     "showTitle": true,
     "tableResultSettingsMap": {},
     "title": "Create catalog widget"
    }
   },
   "outputs": [],
   "source": [
    "# Create a widget to accept a catalog name\n",
    "dbutils.widgets.text('catalog_name','catalog_name','Enter catalog name')\n",
    "dbutils.widgets.text('schema_name','schema_name','Enter schema name')"
   ]
  },
  {
   "cell_type": "code",
   "execution_count": 0,
   "metadata": {
    "application/vnd.databricks.v1+cell": {
     "cellMetadata": {
      "byteLimit": 2048000,
      "rowLimit": 10000
     },
     "inputWidgets": {},
     "nuid": "cf3d362f-0a78-4708-9b62-9579311bc42d",
     "showTitle": true,
     "tableResultSettingsMap": {},
     "title": "Specify data location"
    }
   },
   "outputs": [],
   "source": [
    "# Retrieve the catalog name\n",
    "catalog_name = dbutils.widgets.get('catalog_name')\n",
    "schema_name = dbutils.widgets.get('schema_name')\n",
    "print(catalog_name + \"/\" + schema_name)"
   ]
  },
  {
   "cell_type": "code",
   "execution_count": 0,
   "metadata": {
    "application/vnd.databricks.v1+cell": {
     "cellMetadata": {
      "byteLimit": 2048000,
      "rowLimit": 10000
     },
     "inputWidgets": {},
     "nuid": "60702975-8f7f-4509-83b8-0a6f3f377743",
     "showTitle": true,
     "tableResultSettingsMap": {},
     "title": "Read tables"
    }
   },
   "outputs": [],
   "source": [
    "# Read in all the necessary data tables\n",
    "\n",
    "# my_sets lists the original sets from which our pile of loose parts was created\n",
    "my_sets = ps.read_table(f\"{catalog_name}.{schema_name}.my_sets\")\n",
    "# relevant_set lists the number of parts of each type and color needed to build sets in my_sets\n",
    "relevant_set = ps.read_table(f\"{catalog_name}.{schema_name}.relevant_set\")\n",
    "# lego_sets table lists all possible LEGO sets\n",
    "lego_sets = ps.read_table(f\"{catalog_name}.{schema_name}.sets\")\n",
    "# parts table details all possible loose parts\n",
    "parts = ps.read_table(f\"{catalog_name}.{schema_name}.parts\")\n",
    "# colors table details of all possible colors\n",
    "colors = ps.read_table(f\"{catalog_name}.{schema_name}.colors\")\n",
    "# parts_avail table defines the loose parts we have at hand\n",
    "parts_avail = ps.read_table(f\"{catalog_name}.{schema_name}.parts_avail\")\n",
    "# parts_in_set defines the parts required to build a set in my_sets\n",
    "part_in_set = ps.read_table(f\"{catalog_name}.{schema_name}.part_in_set\")"
   ]
  },
  {
   "cell_type": "markdown",
   "metadata": {
    "application/vnd.databricks.v1+cell": {
     "cellMetadata": {
      "byteLimit": 2048000,
      "rowLimit": 10000
     },
     "inputWidgets": {},
     "nuid": "456ee020-3998-4a0a-812f-ac3f40c55dc8",
     "showTitle": false,
     "tableResultSettingsMap": {},
     "title": ""
    }
   },
   "source": [
    "## Basic Optimization Model\n",
    "\n",
    "Now we're ready to create an optimization model that can return the list of LEGO sets we can make from available parts that generate the most value.\n",
    "\n",
    "Optimization models have a number of fundamental components that are present in all models:\n",
    "1. **Input parameters**: The input data that informs the context of the optimization problem we are trying to solve.\n",
    "2. **Decision variables**: The choices we have or the decisions we need to make.\n",
    "3. **Constraints**: Restrictions or conditions that the solution must satisfy in order to be considered valid. These could be business rules or operating restrictions or resource limitations. \n",
    "4. **Objective(s)**: An expression that represents the goal to maximize or minimize. This could be an operational goal (maximize efficiency or minimize inventory), a business goal (maximize profit or maximize revenue) or a combination of both. An optimization problem can involve multiple goals or objective functions that must be balanced simultaneously.\n",
    "\n",
    "For our LEGO problem, examples of these at a high level are:\n",
    "1. **Input parameters**: Types of complete sets we could make, number and types of parts needed to make a complete set, number and types of parts on hand in inventory etc.\n",
    "2. **Decision variables**: Which LEGO sets are we going to make with the parts available\n",
    "3. **Constraints**: A solution cannot attempt to use more LEGO parts of each type than we have available. A solution must have all the required parts for the sets we chose to make in the right quantities.\n",
    "4. **Objective**: Maximize the value of LEGO sets we can select.\n",
    "\n",
    "We will introduce each of these components, followed by its implementation in Python/Gurobipy. \n",
    "\n",
    "NOTE: In the discussion of optimization models, readers will often encounter another component called **Sets**. Sets are primarily used for mathematical notation to help simplify the description of the mathematical model and ensure a model can be implemented independently of the datasets used to solve it. This allows us to easily solve the same mathematical model for different datasets. In the example below, we will illustrate the use of sets as well."
   ]
  },
  {
   "cell_type": "markdown",
   "metadata": {
    "application/vnd.databricks.v1+cell": {
     "cellMetadata": {
      "byteLimit": 2048000,
      "rowLimit": 10000
     },
     "inputWidgets": {},
     "nuid": "c4ea99d5-e672-4440-bd9d-de575bd45d28",
     "showTitle": false,
     "tableResultSettingsMap": {},
     "title": ""
    }
   },
   "source": [
    "## Optimization Components\n",
    "We will introduce the key components of any optimization model with a basic implementation below."
   ]
  },
  {
   "cell_type": "markdown",
   "metadata": {
    "application/vnd.databricks.v1+cell": {
     "cellMetadata": {
      "byteLimit": 2048000,
      "rowLimit": 10000
     },
     "inputWidgets": {},
     "nuid": "34a0520d-0f52-4cef-a235-7333bb00746c",
     "showTitle": false,
     "tableResultSettingsMap": {},
     "title": ""
    }
   },
   "source": [
    "### Sets \n",
    "\n",
    "In mathematical programming (optimization), **sets** help define the scope of decision variables, constraints, and objective(s). For instance, in our example, sets are used to define parts, LEGO sets, color options, etc. Sets provide a structured way to group related entities so that we can scale our model easily whether we're solving a problem with 10 LEGO parts or 10,000 parts.\n",
    "\n",
    "**Benefit:**\n",
    "Most input data used in optimization models are defined over sets (with exception of scalar values).  Sets help to define scalable structure - instead of manually referencing each parameter, you can use sets to systematically iterate over inputs, variables, and constraints to represent each element in the set.  This makes the formulation and code implementation cleaner and easier to understand. More importantly, the notation allows us to decouple implementation of the optimization model from the underlying input datasets: you can use the same optimization model/code for different datasets by just changing the path to the input tables!\n",
    "\n",
    "**Sets in the model**\n",
    "- \\\\( p \\in \\text{part} \\\\): part ID, e.g. '60474' (Plate Round ...), '60169' (Minifig Chain 16L)\n",
    "- \\\\( s \\in \\text{lego\\textunderscore set} \\\\): set ID, e.g. '75524-1', '76078-1'\n",
    "- \\\\( c \\in \\text{color} \\\\): color ID, e.g. '378' (Sand Green), '182' (Trans-Orange)\n",
    "- \\\\( (p, c) \\in \\text{part\\textunderscore in\\textunderscore color} \\\\): part and color combination that exists in inventory, e.g. (3708, 4) is a valid part_num/color_id combination\n",
    "- \\\\( (s, p, c) \\in \\text{part\\textunderscore in\\textunderscore set} \\\\): part of a specific color is used in set \\\\(s\\\\)\n",
    "\n",
    "\n",
    "From the example below, sets can also be thought of as a collection of relevant columns from input datasets for our optimization model, written in a scalar form."
   ]
  },
  {
   "cell_type": "code",
   "execution_count": 0,
   "metadata": {
    "application/vnd.databricks.v1+cell": {
     "cellMetadata": {
      "byteLimit": 2048000,
      "rowLimit": 10000
     },
     "inputWidgets": {},
     "nuid": "8ba329e8-6049-4414-808c-8b5442c21757",
     "showTitle": true,
     "tableResultSettingsMap": {},
     "title": "Create Sets"
    }
   },
   "outputs": [],
   "source": [
    "# Create sets for the optimization model from the data\n",
    "# Note that all the variables created in this cell below are mathematical sets as described above\n",
    "\n",
    "# Create a set of unique part numbers \n",
    "s_part = set(\n",
    "    parts['part_num'].to_numpy()\n",
    "    )\n",
    "             \n",
    "# Create a set of unique LEGO set numbers \n",
    "s_lego_set = set(\n",
    "    lego_sets['set_num'].to_numpy()\n",
    "    )\n",
    "\n",
    "# Create a set of unique color IDs \n",
    "s_color = set(\n",
    "    colors['id'].to_numpy()\n",
    "    )\n",
    "\n",
    "# Create a set of (part_num, color_id) pairs representing parts and their associated colors\n",
    "\n",
    "s_part_in_color = set(zip(\n",
    "    part_in_set['part_num'].to_numpy(), \n",
    "    part_in_set['color_id'].to_numpy()\n",
    "    ))\n",
    "\n",
    "\n",
    "# Create a set of (set_num, part_num, color_id) tuples indicating which parts and colors are included in each set\n",
    "s_part_in_set = set(zip(\n",
    "    part_in_set['set_num'].to_numpy(),\n",
    "    part_in_set['part_num'].to_numpy(),\n",
    "    part_in_set['color_id'].to_numpy()\n",
    "))"
   ]
  },
  {
   "cell_type": "markdown",
   "metadata": {
    "application/vnd.databricks.v1+cell": {
     "cellMetadata": {
      "byteLimit": 2048000,
      "rowLimit": 10000
     },
     "inputWidgets": {},
     "nuid": "b3a86b52-fac7-46a0-a762-8156af89ef50",
     "showTitle": false,
     "tableResultSettingsMap": {},
     "title": ""
    }
   },
   "source": [
    "### Parameters\n",
    "\n",
    "Parameters refers to the input data that is used in the model formulation. These are values that influence the decision-making process but are not controlled by the optimization model. For example, the value of a LEGO set is a parameter, and it stays constant within an optimization run or a scenario. These input parameters can be static values or outputs from a predictive/ML model. For example, future demand predicted from a forecasting model can be used as an input for determining the right inventory to carry at various locations using an optimization model. \n",
    "\n",
    "Some input data are not indexed over a set, and can be defined by a **scalar** parameter instead.  For example, we can define a scalar parameter to specify a maximum limit on the number of LEGO sets to create from the loose parts. \n",
    "\n",
    "In order to test the robustness of a solution, scenario analysis is typically done by adjusting input parameters for different optimization runs, so that the impact on the objective or optimal decision variables can be evaluated. \n",
    "\n",
    "Python dictionaries provide a convenient way to store and retrieve input data associated with the model. The keys usually represent elements from previously defined sets, and values are typically numerical parameters.\n",
    "\n",
    "\n",
    "**Parameters in the optimization model**\n",
    "\n",
    "- \\\\( \\text{part\\textunderscore quantity \\textunderscore available}_{p, c} \\\\): parts available for assortment e.g. {(3708, 4):1} indicates that we have 1 part available with part ID = 3708 and color ID = 4 \n",
    "- \\\\( \\text{part\\textunderscore quantity\\textunderscore in\\textunderscore set}_{s, p, c} \\\\): quantity of parts of a specific color in a LEGO set\n",
    "- \\\\( \\text{set\\textunderscore num\\textunderscore value}_{s} \\\\): value of each LEGO set in the model \n"
   ]
  },
  {
   "cell_type": "markdown",
   "metadata": {
    "application/vnd.databricks.v1+cell": {
     "cellMetadata": {
      "byteLimit": 2048000,
      "rowLimit": 10000
     },
     "inputWidgets": {},
     "nuid": "9f7b45f4-b4bf-4ead-8ba5-3d09ed745894",
     "showTitle": false,
     "tableResultSettingsMap": {},
     "title": ""
    }
   },
   "source": [
    "We will create a function to convert data tables into dictionaries."
   ]
  },
  {
   "cell_type": "code",
   "execution_count": 0,
   "metadata": {
    "application/vnd.databricks.v1+cell": {
     "cellMetadata": {
      "byteLimit": 2048000,
      "rowLimit": 10000
     },
     "inputWidgets": {},
     "nuid": "55549629-7873-4182-b5f8-9f2bfa93381a",
     "showTitle": true,
     "tableResultSettingsMap": {},
     "title": "Function to convert pandas on spark table to dictionary"
    }
   },
   "outputs": [],
   "source": [
    "def ps_to_dict(df_ps, column_key, column_value):\n",
    "    \"\"\"\n",
    "    Converts a pandas-on-Spark DataFrame to a dictionary.\n",
    "    \n",
    "    Parameters:\n",
    "    df_ps (ps.DataFrame): The pandas-on-Spark DataFrame.\n",
    "    column_key (str or list of str): Column(s) to use as the dictionary key(s).\n",
    "    column_value (str): Column to use as the dictionary value.\n",
    "    \n",
    "    Returns:\n",
    "    dict: A dictionary where keys are derived from `column_key` and values from `column_value`.\n",
    "    \"\"\"\n",
    "\n",
    "    # Single column key\n",
    "    if isinstance(column_key, str):\n",
    "        dictionary = dict(zip(\n",
    "            df_ps[column_key].to_numpy(), \n",
    "            df_ps[column_value].to_numpy()\n",
    "            ))\n",
    "\n",
    "    # Multi-column key\n",
    "    elif isinstance(column_key, list):\n",
    "        \n",
    "        dictionary = dict(zip(\n",
    "            zip(*(df_ps[col].to_numpy() for col in column_key)),\n",
    "            df_ps[column_value].to_numpy()\n",
    "        ))\n",
    "    \n",
    "    else:\n",
    "        raise ValueError(\"column_key must be a string or a list of strings.\")\n",
    "    \n",
    "    return dictionary\n"
   ]
  },
  {
   "cell_type": "markdown",
   "metadata": {
    "application/vnd.databricks.v1+cell": {
     "cellMetadata": {
      "byteLimit": 2048000,
      "rowLimit": 10000
     },
     "inputWidgets": {},
     "nuid": "9e6b1411-0ee9-4b48-9caf-76da66e98149",
     "showTitle": false,
     "tableResultSettingsMap": {},
     "title": ""
    }
   },
   "source": [
    "Now we'll use the function to create necessary input parameters."
   ]
  },
  {
   "cell_type": "code",
   "execution_count": 0,
   "metadata": {
    "application/vnd.databricks.v1+cell": {
     "cellMetadata": {
      "byteLimit": 2048000,
      "rowLimit": 10000
     },
     "inputWidgets": {},
     "nuid": "5fb2e332-4b15-4e75-8cba-3b92c246bedc",
     "showTitle": true,
     "tableResultSettingsMap": {},
     "title": "Define model parameters"
    }
   },
   "outputs": [],
   "source": [
    "# Define the parameters for the optimization model\n",
    "\n",
    "# number of parts available\n",
    "p_part_quantity_available = ps_to_dict(\n",
    "    parts_avail,\n",
    "    [\"part_num\", \"color_id\"],\n",
    "    \"quantity\"\n",
    ")\n",
    "\n",
    "display(p_part_quantity_available)\n",
    "\n",
    "# number of parts in each LEGO set per specific part type\n",
    "p_part_quantity_in_set = ps_to_dict(\n",
    "    part_in_set,\n",
    "    [\"set_num\", \"part_num\", \"color_id\"],\n",
    "    \"quantity\"\n",
    ")\n",
    "\n",
    "display(p_part_quantity_in_set)\n",
    "\n",
    "# part parameters\n",
    "p_part_name = ps_to_dict(\n",
    "    parts,\n",
    "    'part_num',\n",
    "    'name'\n",
    ")\n",
    "\n",
    "display(p_part_name)\n",
    "    \n",
    "# LEGO set parameters \n",
    "p_set_num_part = ps_to_dict(\n",
    "    lego_sets,\n",
    "    'set_num',\n",
    "    'num_parts'\n",
    ")     \n",
    "\n",
    "display(p_set_num_part)\n",
    "\n",
    "# set the quantity of all other parts to zero \n",
    "temp_dict = {\n",
    "    (p, c):0\n",
    "        for (p, c) in s_part_in_color\n",
    "        if (p, c) not in p_part_quantity_available\n",
    "}\n",
    "p_part_quantity_available.update(temp_dict)\n"
   ]
  },
  {
   "cell_type": "markdown",
   "metadata": {
    "application/vnd.databricks.v1+cell": {
     "cellMetadata": {
      "byteLimit": 2048000,
      "rowLimit": 10000
     },
     "inputWidgets": {},
     "nuid": "da7008c8-1df3-4eb8-8964-686d0a7394b4",
     "showTitle": false,
     "tableResultSettingsMap": {},
     "title": ""
    }
   },
   "source": [
    "#### Objective Function\n",
    "For this example, we assume that the value of a set is proportional to the number of parts in the set. Thus, a set that has more parts is considered to be more desirable."
   ]
  },
  {
   "cell_type": "code",
   "execution_count": 0,
   "metadata": {
    "application/vnd.databricks.v1+cell": {
     "cellMetadata": {
      "byteLimit": 2048000,
      "rowLimit": 10000
     },
     "inputWidgets": {},
     "nuid": "30caf113-9ca8-4089-bd14-58e3b8d42c8d",
     "showTitle": false,
     "tableResultSettingsMap": {},
     "title": ""
    }
   },
   "outputs": [],
   "source": [
    "\n",
    "# value of each set in the objective\n",
    "## assume set value is proportional to the number of parts in the set\n",
    "p_set_num_value = {key: value for key, value in p_set_num_part.items()}"
   ]
  },
  {
   "cell_type": "markdown",
   "metadata": {
    "application/vnd.databricks.v1+cell": {
     "cellMetadata": {
      "byteLimit": 2048000,
      "rowLimit": 10000
     },
     "inputWidgets": {},
     "nuid": "51188719-1589-417b-8e0a-5b7f5d0ed444",
     "showTitle": false,
     "tableResultSettingsMap": {},
     "title": ""
    }
   },
   "source": [
    "We have all the input parameters needed in the optimization model. We can now start implementing the model using Gurobi."
   ]
  },
  {
   "cell_type": "markdown",
   "metadata": {
    "application/vnd.databricks.v1+cell": {
     "cellMetadata": {
      "byteLimit": 2048000,
      "rowLimit": 10000
     },
     "inputWidgets": {},
     "nuid": "75f997ff-664d-46b8-9b10-583e63b88255",
     "showTitle": false,
     "tableResultSettingsMap": {},
     "title": ""
    }
   },
   "source": [
    "### Gurobi Settings\n",
    "\n",
    "A Gurobi environment is a Gurobi object that provides the interface between your optimization model and the Gurobi solver. The environment \n",
    "manages important settings, resources, and connections required for solving optimization problems, including setting up the license.\n",
    "\n",
    "In this example, we will keep the model size within Gurobi's free use limit.  So we don't need to set up a license in the environment. If you need to test larger models, a valid license needs to be procured from Gurobi."
   ]
  },
  {
   "cell_type": "code",
   "execution_count": 0,
   "metadata": {
    "application/vnd.databricks.v1+cell": {
     "cellMetadata": {
      "byteLimit": 2048000,
      "rowLimit": 10000
     },
     "inputWidgets": {},
     "nuid": "06213597-7411-4525-a9e2-03832bab4184",
     "showTitle": true,
     "tableResultSettingsMap": {},
     "title": "Create Gurobi model environment"
    }
   },
   "outputs": [],
   "source": [
    "# Initialize Gurobi environment\n",
    "gp_env = gp.Env(empty=True)\n",
    "# This line creates an empty Gurobi environment. By using empty=True, the environment is initialized without automatically loading parameters or settings, allowing for explicit customization before starting it.\n",
    "\n",
    "gp_env.start()\n",
    "#This line starts the environment, activating the connection between the optimization program and the Gurobi solver. This step is essential after creating an empty environment to ensure it is ready to use.\n",
    "\n",
    "# Declare a Gurobi model using the specified Gurobi environment\n",
    "model = gp.Model(\"base_lego_problem\", env=gp_env)\n",
    "#This line creates a new Gurobi model named \"base_lego_problem\", explicitly associating it with the previously initialized gp_env. By specifying the environment, you can customize settings (like logging or solver configurations) and reuse the same environment for other models if needed."
   ]
  },
  {
   "cell_type": "markdown",
   "metadata": {
    "application/vnd.databricks.v1+cell": {
     "cellMetadata": {
      "byteLimit": 2048000,
      "rowLimit": 10000
     },
     "inputWidgets": {},
     "nuid": "40339024-3f40-4543-b1d9-b2603c8bc2a1",
     "showTitle": false,
     "tableResultSettingsMap": {},
     "title": ""
    }
   },
   "source": [
    "The next step is to set **Gurobi model options**, which control various aspects of the optimization model, including: \n",
    "- Setting time limit for model run\n",
    "- Setting optimality tolerance level, which indicates the level of accuracy we want to solve the model to\n",
    "- Gurobi specific settings to help the model solve to optimality faster through the use of [**heuristics**](https://assets.gurobi.com/pdfs/user-events/2017-frankfurt/MIP-Models-and-Heuristics.pdf)   "
   ]
  },
  {
   "cell_type": "code",
   "execution_count": 0,
   "metadata": {
    "application/vnd.databricks.v1+cell": {
     "cellMetadata": {
      "byteLimit": 2048000,
      "rowLimit": 10000
     },
     "inputWidgets": {},
     "nuid": "9f5d59c2-7265-4f22-a4b4-43a5bfafe847",
     "showTitle": true,
     "tableResultSettingsMap": {},
     "title": "Specify Gurobi parameters"
    }
   },
   "outputs": [],
   "source": [
    "# Here are some commonly used Gurobi options we'll include in the optimization model to demonstrate their use.\n",
    "\n",
    "GUROBI_OPTIONS = {\n",
    "    \"TimeLimit\": 60,  # Sets a time limit for the optimization process (in seconds).\n",
    "    \"MIPGap\": 0.01,   # Specifies the relative optimality gap (1% gap). In other words, Gurobi will terminate the search as soon as it founds any feasible solution within 1% value of the best possible solution. This option helps a user define their preferred tradeoff between computational effort (time) and the quality of the solution desired.\n",
    "    \"Threads\": 8      # Limits the number of threads Gurobi uses for computation to 8.\n",
    "}\n",
    "\n",
    "# Set the Gurobi options above in the model declared in the previous cell\n",
    "for param_name, param_val in GUROBI_OPTIONS.items():\n",
    "    model.setParam(param_name, param_val)"
   ]
  },
  {
   "cell_type": "markdown",
   "metadata": {
    "application/vnd.databricks.v1+cell": {
     "cellMetadata": {
      "byteLimit": 2048000,
      "rowLimit": 10000
     },
     "inputWidgets": {},
     "nuid": "cf44ee44-86ac-468b-b644-851faac6fa6b",
     "showTitle": false,
     "tableResultSettingsMap": {},
     "title": ""
    }
   },
   "source": [
    "### Decision Variables\n",
    "\n",
    "Decision variables are a core element for an optimization model. They represent the choices or decisions that the model seeks to determine. For example, in this model, we're trying to determine which LEGO sets (out of all potential options) to choose.  In a retail assortment model, the decision variables would be which product to stock at each location, as well as the quantity of each product to stock.  \n",
    "\n",
    "Decision variables can be either continuous (real number within a defined range) or binary (0 or 1).  Continuous variables are typically used to represent decisions that can vary smoothly, such as quantity, inventory level, or resource consumption; whereas binary variables are used for discrete or on/off choices (e.g. whether to open a new store (1) at a location or not (0) , whether assign a job to a machine (1) or not (0)).\n",
    "\n",
    "\n",
    "\n",
    "\n",
    "\n",
    "**Binary Variables**\n",
    "\n",
    "This LEGO optimization model uses only binary decision variables.  We name the variable \\\\(bv^{\\text{select\\textunderscore set}}\\\\). The variable is indexed over LEGO sets, which means that all the LEGO sets in \\\\(s\\\\) are considered as choices in the selection. \n",
    "\n",
    "- \\\\(bv^{\\text{select\\textunderscore set}}_{s} \\\\): the output of the decision variable = 1 if the LEGO set \\\\(s\\\\) is selected, and is 0 if unselected to build\n",
    "\n",
    " "
   ]
  },
  {
   "cell_type": "code",
   "execution_count": 0,
   "metadata": {
    "application/vnd.databricks.v1+cell": {
     "cellMetadata": {
      "byteLimit": 2048000,
      "rowLimit": 10000
     },
     "inputWidgets": {},
     "nuid": "180b5647-8d5d-43e3-9d39-d1f473c3ec45",
     "showTitle": true,
     "tableResultSettingsMap": {},
     "title": "Add Model Variables"
    }
   },
   "outputs": [],
   "source": [
    "# Add binary decision variables for selecting LEGO sets\n",
    "# addVars is a Gurobi function to add variables to the model.\n",
    "# Each variable in bv_select_set corresponds to an element in s_lego_set.\n",
    "bv_select_set = model.addVars(\n",
    "    s_lego_set,             # the set of elements that the decision variable is indexed over\n",
    "    vtype=GRB.BINARY,       # specifies that these variables are binary (0 or 1)\n",
    "    name=\"bv_select_set\"    # define a name for the variable\n",
    ")"
   ]
  },
  {
   "cell_type": "markdown",
   "metadata": {
    "application/vnd.databricks.v1+cell": {
     "cellMetadata": {
      "byteLimit": 2048000,
      "rowLimit": 10000
     },
     "inputWidgets": {},
     "nuid": "fdbb7e43-b792-4141-8ad5-c15c510335f8",
     "showTitle": false,
     "tableResultSettingsMap": {},
     "title": ""
    }
   },
   "source": [
    "Note that we only need to create one symbolic binary variable to represent each LEGO set's selection decision.  We can do this by indexing the variable over the model set `s_lego_set`.  Internally, Gurobi will create a binary variable for each element of the `s_lego_set`, as if it was run in a for loop!"
   ]
  },
  {
   "cell_type": "markdown",
   "metadata": {
    "application/vnd.databricks.v1+cell": {
     "cellMetadata": {
      "byteLimit": 2048000,
      "rowLimit": 10000
     },
     "inputWidgets": {},
     "nuid": "c8b8c9cf-9846-46d2-bdf7-bedadc2edfc4",
     "showTitle": false,
     "tableResultSettingsMap": {},
     "title": ""
    }
   },
   "source": [
    "### Constraints\n",
    "\n",
    "Constraints are mathematical expressions that define the rules, limits, and conditions an optimization model must follow. They ensure that the solutions generated by the model are feasible and align with user requirements.  \n",
    "\n",
    "Some uses for constraints are: \n",
    "- Define feasiblity: time window for an action, capacity limit\n",
    "- Real-world or physical rules: mass balance, logical conditions\n",
    "- Improve computational speed: some constraints can be constructed to help the model reach optimality sooner by eliminating infeasible options or obviously bad solutions\n",
    "\n",
    "Constraints take the form of either inequalities or equalities.\n",
    "\n",
    "**Model Constraints**\n",
    "\n",
    "In the LEGO example, we have a fundamental constraint, which is that the total number of parts used by selected LEGO sets has to be less than or equal to their availability in the loose pile.  Mathematically, it's written as follows:\n",
    "\n",
    "$$ \\sum_{s:(s,p,c)\\in \\text{part\\textunderscore in\\textunderscore set}} \\text{part\\textunderscore quantity\\textunderscore in\\textunderscore set}_{s,p,c} \\times bv^{\\text{select\\textunderscore set}}_{s} \\leq \\text{part\\textunderscore quantity \\textunderscore available}_{p,c} \\qquad \\forall (p,c) \\in \\text{part\\textunderscore in \\textunderscore color}$$ \n",
    "\n",
    "For each valid part/color combination, the LHS (left hand side) of the inequality expresses the quantity of such part used by LEGO sets selected, and the RHS (right hand side) is the total number of such parts available in the loose pile.  The inequality sign enforces that we cannot use more parts than what's available.\n",
    "The multiplication with the binary variable \\\\(bv^{\\text{select\\textunderscore set}}\\\\) ensures that the parts are only counted against our available limits if the set is selected to be built (\\\\(bv^{\\text{select\\textunderscore set}} = 1\\\\))."
   ]
  },
  {
   "cell_type": "code",
   "execution_count": 0,
   "metadata": {
    "application/vnd.databricks.v1+cell": {
     "cellMetadata": {
      "byteLimit": 2048000,
      "rowLimit": 10000
     },
     "inputWidgets": {},
     "nuid": "776937dd-0103-4e92-bb6b-4b28d4e5bcd3",
     "showTitle": true,
     "tableResultSettingsMap": {},
     "title": "Add Model Constraints"
    }
   },
   "outputs": [],
   "source": [
    "# Define the constraint: the total quantity of a specific part (p) in a specific color (c) \n",
    "# used by the selected sets must not exceed the quantity available.\n",
    "\n",
    "# Iterate over all part-color combinations\n",
    "for (p, c) in s_part_in_color:\n",
    "\n",
    "    # Create a unique name for each constraint for better identification in the model\n",
    "    cons_name = f\"c_part_quantity_balance[{p}-{c}]\"\n",
    "    \n",
    "    constr = (\n",
    "        sum(   # Define the left-hand side (LHS) of the constraint: Sum of the quantities of part (p) in color (c) across all selected sets (s).\n",
    "            p_part_quantity_in_set[s, p, c] * bv_select_set[s]  # Quantity of (p, c) in set (s) times the binary variable\n",
    "            for s in s_lego_set\n",
    "            if (s, p, c) in s_part_in_set  # Only consider sets that actually contain the part-color combination\n",
    "        ) \n",
    "        <= \n",
    "        p_part_quantity_available[p, c]  # Right-hand side (RHS): available quantity of part (p) in color (c)\n",
    "    )\n",
    "    \n",
    "    # Add the constraint to the model with the generated name\n",
    "    model.addConstr(constr, name=cons_name)"
   ]
  },
  {
   "cell_type": "markdown",
   "metadata": {
    "application/vnd.databricks.v1+cell": {
     "cellMetadata": {
      "byteLimit": 2048000,
      "rowLimit": 10000
     },
     "inputWidgets": {},
     "nuid": "036f33e5-6300-4250-aece-bfe2c82bcaca",
     "showTitle": false,
     "tableResultSettingsMap": {},
     "title": ""
    }
   },
   "source": [
    "\n",
    "**Component breakdown:**\n",
    "\n",
    "- Constraint Name:\n",
    "\n",
    "  - `cons_name = f\"c_part_quantity_balance[{p}-{c}]\"` \n",
    "  - Assigns a meaningful name to the constraint for easier debugging and interpretation in solver output.\n",
    "\n",
    "- LHS (Left-Hand Side):\n",
    "  - `sum(...)` computes the total usage of the part-color combination \\\\((p,c)\\\\) across all selected sets.\n",
    "  - The `p_part_quantity_in_set[s, p, c]` represents how many of part \\\\(p\\\\) in color \\\\(c\\\\) are in set \\\\(s\\\\).\n",
    "  - The binary variable `bv_select_set[s]` ensures the contribution is counted only if set \\\\(s\\\\) is selected (when the value for `bv_select_set[s]` is 1)\n",
    "\n",
    "- Filter Condition:\n",
    "  - `if (s, p, c) in s_part_in_set` ensures that only sets containing the part-color combination \\\\((p,c)\\\\) are considered.\n",
    "\n",
    "- RHS (Right-Hand Side):\n",
    "  - `p_part_quantity_available[p, c]` specifies the maximum available quantity of part \\\\(p\\\\) in color \\\\(c\\\\) in the loose pile.\n",
    "\n",
    "- Adding the Constraint:\n",
    "  - `model.addConstr(constr, name=cons_name)` adds the constraint to the model so the solver enforces it during optimization."
   ]
  },
  {
   "cell_type": "markdown",
   "metadata": {
    "application/vnd.databricks.v1+cell": {
     "cellMetadata": {
      "byteLimit": 2048000,
      "rowLimit": 10000
     },
     "inputWidgets": {},
     "nuid": "9a9895ff-2a4b-4381-bb32-1c5f04eda476",
     "showTitle": false,
     "tableResultSettingsMap": {},
     "title": ""
    }
   },
   "source": [
    "### Objective\n",
    "\n",
    "The objective refers to the function that needs to be optimized — either maximized or minimized. This is typically a mathematical expression that represents the goal of the optimization problem. Some examples of objective are to maximize profit, minimize cost, or minimize resources required.\n",
    "\n",
    "It's possible that there could be more than one objective for a single optimization model, see [here](https://docs.gurobi.com/projects/optimizer/en/current/features/multiobjective.html) for additional information on how competing objectives can be modeled in the same formulation.\n",
    "\n",
    "In the LEGO example, our objective is to maximize total value of the selected LEGO sets, and it is represented mathematically here:\n",
    "\n",
    "   $$ \\text{max} \\sum_{s} \\text{set\\textunderscore value}_{s} \\times bv^{\\text{select\\textunderscore set}}_{s} $$"
   ]
  },
  {
   "cell_type": "code",
   "execution_count": 0,
   "metadata": {
    "application/vnd.databricks.v1+cell": {
     "cellMetadata": {
      "byteLimit": 2048000,
      "rowLimit": 10000
     },
     "inputWidgets": {},
     "nuid": "f6180bd7-bf30-477f-99d5-4634b9bdf7eb",
     "showTitle": true,
     "tableResultSettingsMap": {},
     "title": "Create and Set Model Objective"
    }
   },
   "outputs": [],
   "source": [
    "# Calculate the objective function by summing the values of selected sets (p_set_num_value[s])\n",
    "# If set 's' is selected (bv_select_set[s] = 1), its associated value (p_set_num_value[s]) contributes to the objective.\n",
    "obj = sum(p_set_num_value[s]*bv_select_set[s] for s in s_lego_set)\n",
    "\n",
    "# Set the model's objective function to maximize the total value calculated in 'obj'\n",
    "# GRB.MAXIMIZE indicates that we want to find the maximum possible value for the objective function.\n",
    "model.setObjective(obj, GRB.MAXIMIZE)\n",
    "\n",
    "# Update the model to ensure that the objective and any other changes are reflected before solving.\n",
    "model.update()"
   ]
  },
  {
   "cell_type": "markdown",
   "metadata": {
    "application/vnd.databricks.v1+cell": {
     "cellMetadata": {
      "byteLimit": 2048000,
      "rowLimit": 10000
     },
     "inputWidgets": {},
     "nuid": "cd7ecad7-bb3e-49fe-aba5-87573b9d246e",
     "showTitle": false,
     "tableResultSettingsMap": {},
     "title": ""
    }
   },
   "source": [
    "### Solve Model\n",
    "\n",
    "The model is now complete, and it is considered an integer programming (IP) problem, or more specifically a binary programming (BP) problem. Since we do not permit a partially built set and each decision is a simple yes or no, all decision variables must be binary values (0, 1) which are a subset of integer values. \n",
    "\n",
    "The essential components of the optimization model have been stored in `model` object, now we can call Gurobi to trigger model solve to obtain the optimal solution.  Behind the scene, Gurobi searches for the optimal solution without having to test every single valid (feasible) combination of LEGO sets. It leverages approaches called Branch-and-Bound and Cutting Planes to identify optimal solutions efficiently.\n",
    "\n"
   ]
  },
  {
   "cell_type": "code",
   "execution_count": 0,
   "metadata": {
    "application/vnd.databricks.v1+cell": {
     "cellMetadata": {
      "byteLimit": 2048000,
      "rowLimit": 10000
     },
     "inputWidgets": {},
     "nuid": "d19ca950-0923-4d17-8ab9-fe230d43b7c8",
     "showTitle": true,
     "tableResultSettingsMap": {},
     "title": "Optimize Base Model"
    }
   },
   "outputs": [],
   "source": [
    "# Optimize the model using the solver. \n",
    "model.optimize()\n",
    "\n",
    "# After optimization, retrieve the value of the objective function from the model. \n",
    "# This stores the optimal value of the objective function (if an optimal solution exists) in 'objective_base'.\n",
    "objective_base = model.ObjVal\n",
    "\n",
    "# Check the model's status to ensure that an optimal solution was found.\n",
    "if model.status == GRB.OPTIMAL:\n",
    "    # If the model status indicates an optimal solution was found, display a success message.\n",
    "    display(\"Optimal solution found.\")\n",
    "else:\n",
    "    # If the model status indicates that the solution is not optimal (e.g., infeasible), raise an exception.\n",
    "    raise Exception(\"Optimal solution not found.\")"
   ]
  },
  {
   "cell_type": "markdown",
   "metadata": {
    "application/vnd.databricks.v1+cell": {
     "cellMetadata": {
      "byteLimit": 2048000,
      "rowLimit": 10000
     },
     "inputWidgets": {},
     "nuid": "1b3d9dc8-0aa8-4444-9c8f-3c16474bb8a4",
     "showTitle": false,
     "tableResultSettingsMap": {},
     "title": ""
    }
   },
   "source": [
    "Above is the **solution log** from the Gurobi solve.  It provides key details on the optimization process:\n",
    "\n",
    "- Model Size: The log displays the number of constraints, and variables to help assess model complexity. Example: `Optimize a model with 975 rows, 18 columns and 1357 nonzeros`.  'Rows' indicates number of constraints, and 'columns' indicates number of variables. 'Nonzeros' gives an indication of the sparsity of the constraint matrix.\n",
    "\n",
    "- Optimization Progress: Gurobi shows the number of iterations `0 simplex iterations`, the optimality gap `gap 0.0000%`, and time spent `0.01 seconds`. Notice that for this problem size the solver immediately obtains a heuristic solution `Found heuristic solution: objective 619.0000000` but ultimately finds an alternative solution with a higher objective value.\n",
    "\n",
    "- Solution Status: The status tells if the solution is optimal, infeasible, or unbounded. It also provides the objective value when an optimal solution is found. Example: `Optimal solution found.`"
   ]
  },
  {
   "cell_type": "markdown",
   "metadata": {
    "application/vnd.databricks.v1+cell": {
     "cellMetadata": {
      "byteLimit": 2048000,
      "rowLimit": 10000
     },
     "inputWidgets": {},
     "nuid": "4eb5f949-f6f3-47c2-9b6c-c3fe4f83bb99",
     "showTitle": false,
     "tableResultSettingsMap": {},
     "title": ""
    }
   },
   "source": [
    "The next step is to review model solution.  We can contrast the optimal solution that Gurobi returned against the 4 LEGO sets that we used originally to create the loose parts inventory in the previous notebook.\n"
   ]
  },
  {
   "cell_type": "code",
   "execution_count": 0,
   "metadata": {
    "application/vnd.databricks.v1+cell": {
     "cellMetadata": {
      "byteLimit": 2048000,
      "rowLimit": 10000
     },
     "inputWidgets": {},
     "nuid": "ccb2d567-aff3-49d3-98c7-9332de7f5aff",
     "showTitle": true,
     "tableResultSettingsMap": {},
     "title": "Show Model Output"
    }
   },
   "outputs": [],
   "source": [
    "# retrieves the solution values for the variables in bv_select_set from the Gurobi model\n",
    "# since it's a binary variable, we just need to keep the sets are selected by the model (i.e. \n",
    "# if the result is 1)\n",
    "\n",
    "bv_select_data = {\n",
    "    var: val\n",
    "    for var, val in model.getAttr('X', bv_select_set).items()\n",
    "}\n",
    "\n",
    "df_bv_select_data = pd.DataFrame(\n",
    "    [\n",
    "        {'Set': k, 'Value': v}\n",
    "        for k, v in bv_select_data.items()\n",
    "        if v > 0.01 # We are looking for elements where the value is 1 (not 0). We use a numerical tolerance to avoid floating point precision issues\n",
    "    ])\n",
    "\n",
    "display(df_bv_select_data)"
   ]
  },
  {
   "cell_type": "markdown",
   "metadata": {
    "application/vnd.databricks.v1+cell": {
     "cellMetadata": {
      "byteLimit": 2048000,
      "rowLimit": 10000
     },
     "inputWidgets": {},
     "nuid": "b324923e-9549-4525-adc1-f75913df76dd",
     "showTitle": false,
     "tableResultSettingsMap": {},
     "title": ""
    }
   },
   "source": [
    "The solution selects the three most valuable sets from the collection that was originally picked to create the part inventory data!\n",
    "* 75160-1: U-wing\n",
    "* 75168-1: Yoda's Jedi Starfighter\n",
    "* 75170-1: The Phantom\n",
    "\n",
    "Notice that the Y-wing set (75162-1) was not selected. This is because we perturbed the inventory by removing a single piece common to the U and Y-wing models. With the number of pieces for the U-wing being higher, its value -as defined above- is also higher, making it the optimal selection when maximizing overall value.\n"
   ]
  },
  {
   "cell_type": "markdown",
   "metadata": {
    "application/vnd.databricks.v1+cell": {
     "cellMetadata": {
      "byteLimit": 2048000,
      "rowLimit": 10000
     },
     "inputWidgets": {},
     "nuid": "b62398b0-c475-46d9-8854-26f08330355a",
     "showTitle": false,
     "tableResultSettingsMap": {},
     "title": ""
    }
   },
   "source": [
    "Lastly, we display the inventory of unused parts left over from the starting inventory. Since we had a missing part, there is clearly unused inventory left behind."
   ]
  },
  {
   "cell_type": "code",
   "execution_count": 0,
   "metadata": {
    "application/vnd.databricks.v1+cell": {
     "cellMetadata": {
      "byteLimit": 2048000,
      "rowLimit": 10000
     },
     "inputWidgets": {},
     "nuid": "11ff0c6e-2b1a-412d-805f-e1a41f069fb6",
     "showTitle": false,
     "tableResultSettingsMap": {},
     "title": ""
    }
   },
   "outputs": [],
   "source": [
    "remaining_parts = { # Remaining parts\n",
    "    (p, c): p_part_quantity_available[p, c] # We start with parts available\n",
    "     - sum(                                 # We subtract parts that are used up in building selected sets\n",
    "        p_part_quantity_in_set[s, p, c]*bv_select_set[s].X\n",
    "            for s in s_lego_set\n",
    "            if (s, p, c) in s_part_in_set\n",
    "        )\n",
    "    for (p, c) in s_part_in_color\n",
    "}\n",
    "\n",
    "# Create a dictionary of remaining parts where there are nonzero values available\n",
    "remaining_parts_data = {                    \n",
    "    (p, c): remaining_parts[p, c]\n",
    "        for (p ,c) in s_part_in_color\n",
    "        if remaining_parts[p, c] > 0\n",
    "}\n",
    "\n",
    "df_remaining_parts_data = pd.DataFrame(\n",
    "    [{'Part': k[0], 'Color': k[1], 'Quantity': v} for k, v in remaining_parts_data.items()]\n",
    ")\n",
    "\n",
    "if len(remaining_parts_data) > 0:\n",
    "    display(df_remaining_parts_data)\n",
    "else:\n",
    "    display(\"No remaining parts\")"
   ]
  },
  {
   "cell_type": "markdown",
   "metadata": {
    "application/vnd.databricks.v1+cell": {
     "cellMetadata": {
      "byteLimit": 2048000,
      "rowLimit": 10000
     },
     "inputWidgets": {},
     "nuid": "ed236b0f-8f93-4b07-adc8-72f4db8d519f",
     "showTitle": false,
     "tableResultSettingsMap": {},
     "title": ""
    }
   },
   "source": [
    "This wraps the small optimization example. We introduced key optimization concepts, defined a mathematical optimization model, implemented it in Gurobi and obtained an optimal solution from Gurobi.\n",
    "\n",
    "The dataset used for this example was admittedly small. How does mathematical optimization fare on large scale datasets? We will investigate this question in the next notebook: <a href=\"$./Optimization_Model_Large\">Optimization_Model_Large</a>. We will apply our optimization model against a non-trivial large scale dataset for which we would not be able to determine a manual solution easily. Additionally, we will compare optimization results against results from a greedy heuristic to truly showcase the power of optimization.\n",
    "\n",
    "**NOTE: To test and run the larger problem definition, you will need to obtain a commercial Gurobi license as the dimension of the problem is higher than the limits of the restricted use license used in this notebook.**"
   ]
  },
  {
   "cell_type": "markdown",
   "metadata": {
    "application/vnd.databricks.v1+cell": {
     "cellMetadata": {
      "byteLimit": 2048000,
      "rowLimit": 10000
     },
     "inputWidgets": {},
     "nuid": "7d8cf94c-35d6-46dc-a3e3-19f2f75ce4d2",
     "showTitle": false,
     "tableResultSettingsMap": {},
     "title": ""
    }
   },
   "source": []
  }
 ],
 "metadata": {
  "application/vnd.databricks.v1+notebook": {
   "computePreferences": {
    "hardware": {
     "accelerator": null,
     "gpuPoolId": null,
     "memory": null
    }
   },
   "dashboards": [],
   "environmentMetadata": {
    "base_environment": "",
    "environment_version": "1"
   },
   "language": "python",
   "notebookMetadata": {
    "pythonIndentUnit": 4
   },
   "notebookName": "02_Optimization_Model",
   "widgets": {
    "catalog_name": {
     "currentValue": "prod_catalog",
     "nuid": "835bd7e9-3462-443c-9329-36d9c2cb9b35",
     "typedWidgetInfo": {
      "autoCreated": false,
      "defaultValue": "catalog_name",
      "label": "Enter catalog name",
      "name": "catalog_name",
      "options": {
       "widgetDisplayType": "Text",
       "validationRegex": null
      },
      "parameterDataType": "String"
     },
     "widgetInfo": {
      "widgetType": "text",
      "defaultValue": "catalog_name",
      "label": "Enter catalog name",
      "name": "catalog_name",
      "options": {
       "widgetType": "text",
       "autoCreated": null,
       "validationRegex": null
      }
     }
    },
    "schema_name": {
     "currentValue": "legos",
     "nuid": "ed0c5748-e949-4955-b439-909ca90483b4",
     "typedWidgetInfo": {
      "autoCreated": false,
      "defaultValue": "schema_name",
      "label": "Enter schema name",
      "name": "schema_name",
      "options": {
       "widgetDisplayType": "Text",
       "validationRegex": null
      },
      "parameterDataType": "String"
     },
     "widgetInfo": {
      "widgetType": "text",
      "defaultValue": "schema_name",
      "label": "Enter schema name",
      "name": "schema_name",
      "options": {
       "widgetType": "text",
       "autoCreated": null,
       "validationRegex": null
      }
     }
    }
   }
  },
  "language_info": {
   "name": "python"
  }
 },
 "nbformat": 4,
 "nbformat_minor": 0
}
